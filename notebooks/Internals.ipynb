{
 "metadata": {
  "name": "",
  "signature": "sha256:640ae2fedcd01d12980ffbbeb3f39765054830086702c8bf3af7425a9305edfa"
 },
 "nbformat": 3,
 "nbformat_minor": 0,
 "worksheets": [
  {
   "cells": [
    {
     "cell_type": "markdown",
     "metadata": {},
     "source": [
      "Internals"
     ]
    },
    {
     "cell_type": "code",
     "collapsed": false,
     "input": [
      "cat = Series(list('aabbc')).astype('category')\n",
      "floats = Series(np.random.randn(5))\n",
      "floats"
     ],
     "language": "python",
     "metadata": {},
     "outputs": [
      {
       "metadata": {},
       "output_type": "pyout",
       "prompt_number": 6,
       "text": [
        "0    0.632473\n",
        "1   -1.765161\n",
        "2   -1.109158\n",
        "3    0.484370\n",
        "4    0.816688\n",
        "dtype: float64"
       ]
      }
     ],
     "prompt_number": 6
    },
    {
     "cell_type": "code",
     "collapsed": false,
     "input": [
      "floats._data"
     ],
     "language": "python",
     "metadata": {},
     "outputs": [
      {
       "metadata": {},
       "output_type": "pyout",
       "prompt_number": 7,
       "text": [
        "SingleBlockManager\n",
        "Items: Int64Index([0, 1, 2, 3, 4], dtype='int64')\n",
        "FloatBlock: 5 dtype: float64"
       ]
      }
     ],
     "prompt_number": 7
    },
    {
     "cell_type": "code",
     "collapsed": false,
     "input": [
      "df = DataFrame({'A' : floats, \n",
      "                'B' : np.arange(5), \n",
      "                'C' : ['foo']*5, \n",
      "                'D' : cat,\n",
      "                'E' : pd.date_range('20130101',periods=5),\n",
      "                'F' : floats,\n",
      "                'G' : cat})\n",
      "df"
     ],
     "language": "python",
     "metadata": {},
     "outputs": [
      {
       "html": [
        "<div style=\"max-height:1000px;max-width:1500px;overflow:auto;\">\n",
        "<table border=\"1\" class=\"dataframe\">\n",
        "  <thead>\n",
        "    <tr style=\"text-align: right;\">\n",
        "      <th></th>\n",
        "      <th>A</th>\n",
        "      <th>B</th>\n",
        "      <th>C</th>\n",
        "      <th>D</th>\n",
        "      <th>E</th>\n",
        "      <th>F</th>\n",
        "      <th>G</th>\n",
        "    </tr>\n",
        "  </thead>\n",
        "  <tbody>\n",
        "    <tr>\n",
        "      <th>0</th>\n",
        "      <td> 0.632473</td>\n",
        "      <td> 0</td>\n",
        "      <td> foo</td>\n",
        "      <td> a</td>\n",
        "      <td>2013-01-01</td>\n",
        "      <td> 0.632473</td>\n",
        "      <td> a</td>\n",
        "    </tr>\n",
        "    <tr>\n",
        "      <th>1</th>\n",
        "      <td>-1.765161</td>\n",
        "      <td> 1</td>\n",
        "      <td> foo</td>\n",
        "      <td> a</td>\n",
        "      <td>2013-01-02</td>\n",
        "      <td>-1.765161</td>\n",
        "      <td> a</td>\n",
        "    </tr>\n",
        "    <tr>\n",
        "      <th>2</th>\n",
        "      <td>-1.109158</td>\n",
        "      <td> 2</td>\n",
        "      <td> foo</td>\n",
        "      <td> b</td>\n",
        "      <td>2013-01-03</td>\n",
        "      <td>-1.109158</td>\n",
        "      <td> b</td>\n",
        "    </tr>\n",
        "    <tr>\n",
        "      <th>3</th>\n",
        "      <td> 0.484370</td>\n",
        "      <td> 3</td>\n",
        "      <td> foo</td>\n",
        "      <td> b</td>\n",
        "      <td>2013-01-04</td>\n",
        "      <td> 0.484370</td>\n",
        "      <td> b</td>\n",
        "    </tr>\n",
        "    <tr>\n",
        "      <th>4</th>\n",
        "      <td> 0.816688</td>\n",
        "      <td> 4</td>\n",
        "      <td> foo</td>\n",
        "      <td> c</td>\n",
        "      <td>2013-01-05</td>\n",
        "      <td> 0.816688</td>\n",
        "      <td> c</td>\n",
        "    </tr>\n",
        "  </tbody>\n",
        "</table>\n",
        "</div>"
       ],
       "metadata": {},
       "output_type": "pyout",
       "prompt_number": 8,
       "text": [
        "          A  B    C  D          E         F  G\n",
        "0  0.632473  0  foo  a 2013-01-01  0.632473  a\n",
        "1 -1.765161  1  foo  a 2013-01-02 -1.765161  a\n",
        "2 -1.109158  2  foo  b 2013-01-03 -1.109158  b\n",
        "3  0.484370  3  foo  b 2013-01-04  0.484370  b\n",
        "4  0.816688  4  foo  c 2013-01-05  0.816688  c"
       ]
      }
     ],
     "prompt_number": 8
    },
    {
     "cell_type": "code",
     "collapsed": false,
     "input": [
      "df.dtypes"
     ],
     "language": "python",
     "metadata": {},
     "outputs": [
      {
       "metadata": {},
       "output_type": "pyout",
       "prompt_number": 9,
       "text": [
        "A           float64\n",
        "B             int64\n",
        "C            object\n",
        "D          category\n",
        "E    datetime64[ns]\n",
        "F           float64\n",
        "G          category\n",
        "dtype: object"
       ]
      }
     ],
     "prompt_number": 9
    },
    {
     "cell_type": "code",
     "collapsed": false,
     "input": [
      "df._data"
     ],
     "language": "python",
     "metadata": {},
     "outputs": [
      {
       "metadata": {},
       "output_type": "pyout",
       "prompt_number": 10,
       "text": [
        "BlockManager\n",
        "Items: Index([u'A', u'B', u'C', u'D', u'E', u'F', u'G'], dtype='object')\n",
        "Axis 1: Int64Index([0, 1, 2, 3, 4], dtype='int64')\n",
        "CategoricalBlock: slice(3, 4, 1), 1 x 5, dtype: category\n",
        "CategoricalBlock: slice(6, 7, 1), 1 x 5, dtype: category\n",
        "DatetimeBlock: slice(4, 5, 1), 1 x 5, dtype: datetime64[ns]\n",
        "FloatBlock: slice(0, 10, 5), 2 x 5, dtype: float64\n",
        "IntBlock: slice(1, 2, 1), 1 x 5, dtype: int64\n",
        "ObjectBlock: slice(2, 3, 1), 1 x 5, dtype: object"
       ]
      }
     ],
     "prompt_number": 10
    },
    {
     "cell_type": "code",
     "collapsed": false,
     "input": [],
     "language": "python",
     "metadata": {},
     "outputs": [],
     "prompt_number": 10
    }
   ],
   "metadata": {}
  }
 ]
}