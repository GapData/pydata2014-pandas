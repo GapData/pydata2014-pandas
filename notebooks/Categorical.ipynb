{
 "metadata": {
  "name": "",
  "signature": "sha256:03ebce52defd136f393851cd3f20115922c2482fe7b57efb0fc173fca9956398"
 },
 "nbformat": 3,
 "nbformat_minor": 0,
 "worksheets": [
  {
   "cells": [
    {
     "cell_type": "heading",
     "level": 1,
     "metadata": {},
     "source": [
      "Categorical"
     ]
    },
    {
     "cell_type": "markdown",
     "metadata": {},
     "source": [
      "docs: http://pandas.pydata.org/pandas-docs/stable/categorical.html"
     ]
    },
    {
     "cell_type": "code",
     "collapsed": false,
     "input": [
      "pd.set_option('max_rows',12)"
     ],
     "language": "python",
     "metadata": {},
     "outputs": [],
     "prompt_number": 34
    },
    {
     "cell_type": "code",
     "collapsed": false,
     "input": [
      "s = Series(list('aabbcad'), dtype=\"category\")\n",
      "s"
     ],
     "language": "python",
     "metadata": {},
     "outputs": [
      {
       "metadata": {},
       "output_type": "pyout",
       "prompt_number": 35,
       "text": [
        "0    a\n",
        "1    a\n",
        "2    b\n",
        "3    b\n",
        "4    c\n",
        "5    a\n",
        "6    d\n",
        "dtype: category\n",
        "Categories (4, object): [a < b < c < d]"
       ]
      }
     ],
     "prompt_number": 35
    },
    {
     "cell_type": "code",
     "collapsed": false,
     "input": [
      "s.values"
     ],
     "language": "python",
     "metadata": {},
     "outputs": [
      {
       "metadata": {},
       "output_type": "pyout",
       "prompt_number": 36,
       "text": [
        "[a, a, b, b, c, a, d]\n",
        "Categories (4, object): [a < b < c < d]"
       ]
      }
     ],
     "prompt_number": 36
    },
    {
     "cell_type": "code",
     "collapsed": false,
     "input": [
      "type(s.values)"
     ],
     "language": "python",
     "metadata": {},
     "outputs": [
      {
       "metadata": {},
       "output_type": "pyout",
       "prompt_number": 37,
       "text": [
        "pandas.core.categorical.Categorical"
       ]
      }
     ],
     "prompt_number": 37
    },
    {
     "cell_type": "code",
     "collapsed": false,
     "input": [
      "s.cat.codes"
     ],
     "language": "python",
     "metadata": {},
     "outputs": [
      {
       "metadata": {},
       "output_type": "pyout",
       "prompt_number": 38,
       "text": [
        "0    0\n",
        "1    0\n",
        "2    1\n",
        "3    1\n",
        "4    2\n",
        "5    0\n",
        "6    3\n",
        "dtype: int8"
       ]
      }
     ],
     "prompt_number": 38
    },
    {
     "cell_type": "code",
     "collapsed": false,
     "input": [
      "s.cat.categories"
     ],
     "language": "python",
     "metadata": {},
     "outputs": [
      {
       "metadata": {},
       "output_type": "pyout",
       "prompt_number": 39,
       "text": [
        "Index([u'a', u'b', u'c', u'd'], dtype='object')"
       ]
      }
     ],
     "prompt_number": 39
    },
    {
     "cell_type": "code",
     "collapsed": false,
     "input": [
      "s.cat.ordered"
     ],
     "language": "python",
     "metadata": {},
     "outputs": [
      {
       "metadata": {},
       "output_type": "pyout",
       "prompt_number": 40,
       "text": [
        "True"
       ]
      }
     ],
     "prompt_number": 40
    },
    {
     "cell_type": "code",
     "collapsed": false,
     "input": [
      "# factorizing\n",
      "pd.factorize(list('aabbcad'))"
     ],
     "language": "python",
     "metadata": {},
     "outputs": [
      {
       "metadata": {},
       "output_type": "pyout",
       "prompt_number": 41,
       "text": [
        "(array([0, 0, 1, 1, 2, 0, 3]), array(['a', 'b', 'c', 'd'], dtype=object))"
       ]
      }
     ],
     "prompt_number": 41
    },
    {
     "cell_type": "code",
     "collapsed": false,
     "input": [
      "s2 = Series(pd.Categorical.from_codes(s.cat.codes,s.cat.categories,ordered=False))\n",
      "s2"
     ],
     "language": "python",
     "metadata": {},
     "outputs": [
      {
       "metadata": {},
       "output_type": "pyout",
       "prompt_number": 42,
       "text": [
        "0    a\n",
        "1    a\n",
        "2    b\n",
        "3    b\n",
        "4    c\n",
        "5    a\n",
        "6    d\n",
        "dtype: category\n",
        "Categories (4, object): [a, b, c, d]"
       ]
      }
     ],
     "prompt_number": 42
    },
    {
     "cell_type": "code",
     "collapsed": false,
     "input": [
      "s2.cat.ordered"
     ],
     "language": "python",
     "metadata": {},
     "outputs": [
      {
       "metadata": {},
       "output_type": "pyout",
       "prompt_number": 43,
       "text": [
        "False"
       ]
      }
     ],
     "prompt_number": 43
    },
    {
     "cell_type": "code",
     "collapsed": false,
     "input": [
      "# ops\n",
      "s.min()"
     ],
     "language": "python",
     "metadata": {},
     "outputs": [
      {
       "metadata": {},
       "output_type": "pyout",
       "prompt_number": 44,
       "text": [
        "'a'"
       ]
      }
     ],
     "prompt_number": 44
    },
    {
     "cell_type": "code",
     "collapsed": false,
     "input": [
      "s.max()"
     ],
     "language": "python",
     "metadata": {},
     "outputs": [
      {
       "metadata": {},
       "output_type": "pyout",
       "prompt_number": 45,
       "text": [
        "'d'"
       ]
      }
     ],
     "prompt_number": 45
    },
    {
     "cell_type": "code",
     "collapsed": false,
     "input": [
      "s2.min()"
     ],
     "language": "python",
     "metadata": {},
     "outputs": [
      {
       "ename": "TypeError",
       "evalue": "Categorical not ordered",
       "output_type": "pyerr",
       "traceback": [
        "\u001b[0;31m---------------------------------------------------------------------------\u001b[0m\n\u001b[0;31mTypeError\u001b[0m                                 Traceback (most recent call last)",
        "\u001b[0;32m<ipython-input-46-219081e92ac1>\u001b[0m in \u001b[0;36m<module>\u001b[0;34m()\u001b[0m\n\u001b[0;32m----> 1\u001b[0;31m \u001b[0ms2\u001b[0m\u001b[0;34m.\u001b[0m\u001b[0mmin\u001b[0m\u001b[0;34m(\u001b[0m\u001b[0;34m)\u001b[0m\u001b[0;34m\u001b[0m\u001b[0m\n\u001b[0m",
        "\u001b[0;32m/Users/jreback/anaconda/envs/pandas_dev/lib/python2.7/site-packages/pandas-0.15.1_72_gf504885-py2.7-macosx-10.5-x86_64.egg/pandas/core/generic.pyc\u001b[0m in \u001b[0;36mstat_func\u001b[0;34m(self, axis, skipna, level, numeric_only, **kwargs)\u001b[0m\n\u001b[1;32m   3964\u001b[0m                                               skipna=skipna)\n\u001b[1;32m   3965\u001b[0m                 return self._reduce(f, name, axis=axis,\n\u001b[0;32m-> 3966\u001b[0;31m                                     skipna=skipna, numeric_only=numeric_only)\n\u001b[0m\u001b[1;32m   3967\u001b[0m             \u001b[0mstat_func\u001b[0m\u001b[0;34m.\u001b[0m\u001b[0m__name__\u001b[0m \u001b[0;34m=\u001b[0m \u001b[0mname\u001b[0m\u001b[0;34m\u001b[0m\u001b[0m\n\u001b[1;32m   3968\u001b[0m             \u001b[0;32mreturn\u001b[0m \u001b[0mstat_func\u001b[0m\u001b[0;34m\u001b[0m\u001b[0m\n",
        "\u001b[0;32m/Users/jreback/anaconda/envs/pandas_dev/lib/python2.7/site-packages/pandas-0.15.1_72_gf504885-py2.7-macosx-10.5-x86_64.egg/pandas/core/series.pyc\u001b[0m in \u001b[0;36m_reduce\u001b[0;34m(self, op, name, axis, skipna, numeric_only, filter_type, **kwds)\u001b[0m\n\u001b[1;32m   2083\u001b[0m         return delegate._reduce(op=op, name=name, axis=axis, skipna=skipna,\n\u001b[1;32m   2084\u001b[0m                                 \u001b[0mnumeric_only\u001b[0m\u001b[0;34m=\u001b[0m\u001b[0mnumeric_only\u001b[0m\u001b[0;34m,\u001b[0m\u001b[0;34m\u001b[0m\u001b[0m\n\u001b[0;32m-> 2085\u001b[0;31m                                 filter_type=filter_type, **kwds)\n\u001b[0m\u001b[1;32m   2086\u001b[0m \u001b[0;34m\u001b[0m\u001b[0m\n\u001b[1;32m   2087\u001b[0m     \u001b[0;32mdef\u001b[0m \u001b[0m_maybe_box\u001b[0m\u001b[0;34m(\u001b[0m\u001b[0mself\u001b[0m\u001b[0;34m,\u001b[0m \u001b[0mfunc\u001b[0m\u001b[0;34m,\u001b[0m \u001b[0mdropna\u001b[0m\u001b[0;34m=\u001b[0m\u001b[0mFalse\u001b[0m\u001b[0;34m)\u001b[0m\u001b[0;34m:\u001b[0m\u001b[0;34m\u001b[0m\u001b[0m\n",
        "\u001b[0;32m/Users/jreback/anaconda/envs/pandas_dev/lib/python2.7/site-packages/pandas-0.15.1_72_gf504885-py2.7-macosx-10.5-x86_64.egg/pandas/core/categorical.pyc\u001b[0m in \u001b[0;36m_reduce\u001b[0;34m(self, op, name, axis, skipna, numeric_only, filter_type, **kwds)\u001b[0m\n\u001b[1;32m   1249\u001b[0m         \u001b[0;32mif\u001b[0m \u001b[0mfunc\u001b[0m \u001b[0;32mis\u001b[0m \u001b[0mNone\u001b[0m\u001b[0;34m:\u001b[0m\u001b[0;34m\u001b[0m\u001b[0m\n\u001b[1;32m   1250\u001b[0m             \u001b[0;32mraise\u001b[0m \u001b[0mTypeError\u001b[0m\u001b[0;34m(\u001b[0m\u001b[0;34m\"Categorical cannot perform the operation {op}\"\u001b[0m\u001b[0;34m.\u001b[0m\u001b[0mformat\u001b[0m\u001b[0;34m(\u001b[0m\u001b[0mop\u001b[0m\u001b[0;34m=\u001b[0m\u001b[0mname\u001b[0m\u001b[0;34m)\u001b[0m\u001b[0;34m)\u001b[0m\u001b[0;34m\u001b[0m\u001b[0m\n\u001b[0;32m-> 1251\u001b[0;31m         \u001b[0;32mreturn\u001b[0m \u001b[0mfunc\u001b[0m\u001b[0;34m(\u001b[0m\u001b[0mnumeric_only\u001b[0m\u001b[0;34m=\u001b[0m\u001b[0mnumeric_only\u001b[0m\u001b[0;34m,\u001b[0m \u001b[0;34m**\u001b[0m\u001b[0mkwds\u001b[0m\u001b[0;34m)\u001b[0m\u001b[0;34m\u001b[0m\u001b[0m\n\u001b[0m\u001b[1;32m   1252\u001b[0m \u001b[0;34m\u001b[0m\u001b[0m\n\u001b[1;32m   1253\u001b[0m     \u001b[0;32mdef\u001b[0m \u001b[0mmin\u001b[0m\u001b[0;34m(\u001b[0m\u001b[0mself\u001b[0m\u001b[0;34m,\u001b[0m \u001b[0mnumeric_only\u001b[0m\u001b[0;34m=\u001b[0m\u001b[0mNone\u001b[0m\u001b[0;34m,\u001b[0m \u001b[0;34m**\u001b[0m\u001b[0mkwargs\u001b[0m\u001b[0;34m)\u001b[0m\u001b[0;34m:\u001b[0m\u001b[0;34m\u001b[0m\u001b[0m\n",
        "\u001b[0;32m/Users/jreback/anaconda/envs/pandas_dev/lib/python2.7/site-packages/pandas-0.15.1_72_gf504885-py2.7-macosx-10.5-x86_64.egg/pandas/core/categorical.pyc\u001b[0m in \u001b[0;36mmin\u001b[0;34m(self, numeric_only, **kwargs)\u001b[0m\n\u001b[1;32m   1266\u001b[0m         \"\"\"\n\u001b[1;32m   1267\u001b[0m         \u001b[0;32mif\u001b[0m \u001b[0;32mnot\u001b[0m \u001b[0mself\u001b[0m\u001b[0;34m.\u001b[0m\u001b[0mordered\u001b[0m\u001b[0;34m:\u001b[0m\u001b[0;34m\u001b[0m\u001b[0m\n\u001b[0;32m-> 1268\u001b[0;31m             \u001b[0;32mraise\u001b[0m \u001b[0mTypeError\u001b[0m\u001b[0;34m(\u001b[0m\u001b[0;34m\"Categorical not ordered\"\u001b[0m\u001b[0;34m)\u001b[0m\u001b[0;34m\u001b[0m\u001b[0m\n\u001b[0m\u001b[1;32m   1269\u001b[0m         \u001b[0;32mif\u001b[0m \u001b[0mnumeric_only\u001b[0m\u001b[0;34m:\u001b[0m\u001b[0;34m\u001b[0m\u001b[0m\n\u001b[1;32m   1270\u001b[0m             \u001b[0mgood\u001b[0m \u001b[0;34m=\u001b[0m \u001b[0mself\u001b[0m\u001b[0;34m.\u001b[0m\u001b[0m_codes\u001b[0m \u001b[0;34m!=\u001b[0m \u001b[0;34m-\u001b[0m\u001b[0;36m1\u001b[0m\u001b[0;34m\u001b[0m\u001b[0m\n",
        "\u001b[0;31mTypeError\u001b[0m: Categorical not ordered"
       ]
      }
     ],
     "prompt_number": 46
    },
    {
     "cell_type": "code",
     "collapsed": false,
     "input": [
      "np.random.seed(1234)\n",
      "df = DataFrame({'value': np.random.randint(0, 100, 10)})\n",
      "labels = [ \"{0}-{1}\".format(i, i + 10) for i in range(0, 100, 10) ]\n",
      "df['group'] = pd.cut(df.value, range(0, 105, 10), right=False, labels=labels)\n",
      "df"
     ],
     "language": "python",
     "metadata": {},
     "outputs": [
      {
       "html": [
        "<div style=\"max-height:1000px;max-width:1500px;overflow:auto;\">\n",
        "<table border=\"1\" class=\"dataframe\">\n",
        "  <thead>\n",
        "    <tr style=\"text-align: right;\">\n",
        "      <th></th>\n",
        "      <th>value</th>\n",
        "      <th>group</th>\n",
        "    </tr>\n",
        "  </thead>\n",
        "  <tbody>\n",
        "    <tr>\n",
        "      <th>0</th>\n",
        "      <td> 47</td>\n",
        "      <td> 40-50</td>\n",
        "    </tr>\n",
        "    <tr>\n",
        "      <th>1</th>\n",
        "      <td> 83</td>\n",
        "      <td> 80-90</td>\n",
        "    </tr>\n",
        "    <tr>\n",
        "      <th>2</th>\n",
        "      <td> 38</td>\n",
        "      <td> 30-40</td>\n",
        "    </tr>\n",
        "    <tr>\n",
        "      <th>3</th>\n",
        "      <td> 53</td>\n",
        "      <td> 50-60</td>\n",
        "    </tr>\n",
        "    <tr>\n",
        "      <th>4</th>\n",
        "      <td> 76</td>\n",
        "      <td> 70-80</td>\n",
        "    </tr>\n",
        "    <tr>\n",
        "      <th>5</th>\n",
        "      <td> 24</td>\n",
        "      <td> 20-30</td>\n",
        "    </tr>\n",
        "    <tr>\n",
        "      <th>6</th>\n",
        "      <td> 15</td>\n",
        "      <td> 10-20</td>\n",
        "    </tr>\n",
        "    <tr>\n",
        "      <th>7</th>\n",
        "      <td> 49</td>\n",
        "      <td> 40-50</td>\n",
        "    </tr>\n",
        "    <tr>\n",
        "      <th>8</th>\n",
        "      <td> 23</td>\n",
        "      <td> 20-30</td>\n",
        "    </tr>\n",
        "    <tr>\n",
        "      <th>9</th>\n",
        "      <td> 26</td>\n",
        "      <td> 20-30</td>\n",
        "    </tr>\n",
        "  </tbody>\n",
        "</table>\n",
        "</div>"
       ],
       "metadata": {},
       "output_type": "pyout",
       "prompt_number": 47,
       "text": [
        "   value  group\n",
        "0     47  40-50\n",
        "1     83  80-90\n",
        "2     38  30-40\n",
        "3     53  50-60\n",
        "4     76  70-80\n",
        "5     24  20-30\n",
        "6     15  10-20\n",
        "7     49  40-50\n",
        "8     23  20-30\n",
        "9     26  20-30"
       ]
      }
     ],
     "prompt_number": 47
    },
    {
     "cell_type": "code",
     "collapsed": false,
     "input": [
      "df.dtypes"
     ],
     "language": "python",
     "metadata": {},
     "outputs": [
      {
       "metadata": {},
       "output_type": "pyout",
       "prompt_number": 48,
       "text": [
        "value       int64\n",
        "group    category\n",
        "dtype: object"
       ]
      }
     ],
     "prompt_number": 48
    },
    {
     "cell_type": "code",
     "collapsed": false,
     "input": [
      "df['group']"
     ],
     "language": "python",
     "metadata": {},
     "outputs": [
      {
       "metadata": {},
       "output_type": "pyout",
       "prompt_number": 49,
       "text": [
        "0    40-50\n",
        "1    80-90\n",
        "2    30-40\n",
        "3    50-60\n",
        "4    70-80\n",
        "5    20-30\n",
        "6    10-20\n",
        "7    40-50\n",
        "8    20-30\n",
        "9    20-30\n",
        "Name: group, dtype: category\n",
        "Categories (10, object): [0-10 < 10-20 < 20-30 < 30-40 ... 60-70 < 70-80 < 80-90 < 90-100]"
       ]
      }
     ],
     "prompt_number": 49
    },
    {
     "cell_type": "code",
     "collapsed": false,
     "input": [
      "df.sort(['group','value'])"
     ],
     "language": "python",
     "metadata": {},
     "outputs": [
      {
       "html": [
        "<div style=\"max-height:1000px;max-width:1500px;overflow:auto;\">\n",
        "<table border=\"1\" class=\"dataframe\">\n",
        "  <thead>\n",
        "    <tr style=\"text-align: right;\">\n",
        "      <th></th>\n",
        "      <th>value</th>\n",
        "      <th>group</th>\n",
        "    </tr>\n",
        "  </thead>\n",
        "  <tbody>\n",
        "    <tr>\n",
        "      <th>6</th>\n",
        "      <td> 15</td>\n",
        "      <td> 10-20</td>\n",
        "    </tr>\n",
        "    <tr>\n",
        "      <th>8</th>\n",
        "      <td> 23</td>\n",
        "      <td> 20-30</td>\n",
        "    </tr>\n",
        "    <tr>\n",
        "      <th>5</th>\n",
        "      <td> 24</td>\n",
        "      <td> 20-30</td>\n",
        "    </tr>\n",
        "    <tr>\n",
        "      <th>9</th>\n",
        "      <td> 26</td>\n",
        "      <td> 20-30</td>\n",
        "    </tr>\n",
        "    <tr>\n",
        "      <th>2</th>\n",
        "      <td> 38</td>\n",
        "      <td> 30-40</td>\n",
        "    </tr>\n",
        "    <tr>\n",
        "      <th>0</th>\n",
        "      <td> 47</td>\n",
        "      <td> 40-50</td>\n",
        "    </tr>\n",
        "    <tr>\n",
        "      <th>7</th>\n",
        "      <td> 49</td>\n",
        "      <td> 40-50</td>\n",
        "    </tr>\n",
        "    <tr>\n",
        "      <th>3</th>\n",
        "      <td> 53</td>\n",
        "      <td> 50-60</td>\n",
        "    </tr>\n",
        "    <tr>\n",
        "      <th>4</th>\n",
        "      <td> 76</td>\n",
        "      <td> 70-80</td>\n",
        "    </tr>\n",
        "    <tr>\n",
        "      <th>1</th>\n",
        "      <td> 83</td>\n",
        "      <td> 80-90</td>\n",
        "    </tr>\n",
        "  </tbody>\n",
        "</table>\n",
        "</div>"
       ],
       "metadata": {},
       "output_type": "pyout",
       "prompt_number": 50,
       "text": [
        "   value  group\n",
        "6     15  10-20\n",
        "8     23  20-30\n",
        "5     24  20-30\n",
        "9     26  20-30\n",
        "2     38  30-40\n",
        "0     47  40-50\n",
        "7     49  40-50\n",
        "3     53  50-60\n",
        "4     76  70-80\n",
        "1     83  80-90"
       ]
      }
     ],
     "prompt_number": 50
    },
    {
     "cell_type": "code",
     "collapsed": false,
     "input": [
      "df.groupby(df['group']).sum()"
     ],
     "language": "python",
     "metadata": {},
     "outputs": [
      {
       "html": [
        "<div style=\"max-height:1000px;max-width:1500px;overflow:auto;\">\n",
        "<table border=\"1\" class=\"dataframe\">\n",
        "  <thead>\n",
        "    <tr style=\"text-align: right;\">\n",
        "      <th></th>\n",
        "      <th>value</th>\n",
        "    </tr>\n",
        "    <tr>\n",
        "      <th>group</th>\n",
        "      <th></th>\n",
        "    </tr>\n",
        "  </thead>\n",
        "  <tbody>\n",
        "    <tr>\n",
        "      <th>0-10</th>\n",
        "      <td>NaN</td>\n",
        "    </tr>\n",
        "    <tr>\n",
        "      <th>10-20</th>\n",
        "      <td> 15</td>\n",
        "    </tr>\n",
        "    <tr>\n",
        "      <th>20-30</th>\n",
        "      <td> 73</td>\n",
        "    </tr>\n",
        "    <tr>\n",
        "      <th>30-40</th>\n",
        "      <td> 38</td>\n",
        "    </tr>\n",
        "    <tr>\n",
        "      <th>40-50</th>\n",
        "      <td> 96</td>\n",
        "    </tr>\n",
        "    <tr>\n",
        "      <th>50-60</th>\n",
        "      <td> 53</td>\n",
        "    </tr>\n",
        "    <tr>\n",
        "      <th>60-70</th>\n",
        "      <td>NaN</td>\n",
        "    </tr>\n",
        "    <tr>\n",
        "      <th>70-80</th>\n",
        "      <td> 76</td>\n",
        "    </tr>\n",
        "    <tr>\n",
        "      <th>80-90</th>\n",
        "      <td> 83</td>\n",
        "    </tr>\n",
        "    <tr>\n",
        "      <th>90-100</th>\n",
        "      <td>NaN</td>\n",
        "    </tr>\n",
        "  </tbody>\n",
        "</table>\n",
        "</div>"
       ],
       "metadata": {},
       "output_type": "pyout",
       "prompt_number": 51,
       "text": [
        "        value\n",
        "group        \n",
        "0-10      NaN\n",
        "10-20      15\n",
        "20-30      73\n",
        "30-40      38\n",
        "40-50      96\n",
        "50-60      53\n",
        "60-70     NaN\n",
        "70-80      76\n",
        "80-90      83\n",
        "90-100    NaN"
       ]
      }
     ],
     "prompt_number": 51
    },
    {
     "cell_type": "code",
     "collapsed": false,
     "input": [
      "# indexing\n",
      "df.loc[df.group.isin(['20-30','80-90'])]"
     ],
     "language": "python",
     "metadata": {},
     "outputs": [
      {
       "html": [
        "<div style=\"max-height:1000px;max-width:1500px;overflow:auto;\">\n",
        "<table border=\"1\" class=\"dataframe\">\n",
        "  <thead>\n",
        "    <tr style=\"text-align: right;\">\n",
        "      <th></th>\n",
        "      <th>value</th>\n",
        "      <th>group</th>\n",
        "    </tr>\n",
        "  </thead>\n",
        "  <tbody>\n",
        "    <tr>\n",
        "      <th>1</th>\n",
        "      <td> 83</td>\n",
        "      <td> 80-90</td>\n",
        "    </tr>\n",
        "    <tr>\n",
        "      <th>5</th>\n",
        "      <td> 24</td>\n",
        "      <td> 20-30</td>\n",
        "    </tr>\n",
        "    <tr>\n",
        "      <th>8</th>\n",
        "      <td> 23</td>\n",
        "      <td> 20-30</td>\n",
        "    </tr>\n",
        "    <tr>\n",
        "      <th>9</th>\n",
        "      <td> 26</td>\n",
        "      <td> 20-30</td>\n",
        "    </tr>\n",
        "  </tbody>\n",
        "</table>\n",
        "</div>"
       ],
       "metadata": {},
       "output_type": "pyout",
       "prompt_number": 52,
       "text": [
        "   value  group\n",
        "1     83  80-90\n",
        "5     24  20-30\n",
        "8     23  20-30\n",
        "9     26  20-30"
       ]
      }
     ],
     "prompt_number": 52
    },
    {
     "cell_type": "code",
     "collapsed": false,
     "input": [
      "# dummies\n",
      "s = df['group']\n",
      "dummies = pd.get_dummies(s)\n",
      "dummies"
     ],
     "language": "python",
     "metadata": {},
     "outputs": [
      {
       "html": [
        "<div style=\"max-height:1000px;max-width:1500px;overflow:auto;\">\n",
        "<table border=\"1\" class=\"dataframe\">\n",
        "  <thead>\n",
        "    <tr style=\"text-align: right;\">\n",
        "      <th></th>\n",
        "      <th>0-10</th>\n",
        "      <th>10-20</th>\n",
        "      <th>20-30</th>\n",
        "      <th>30-40</th>\n",
        "      <th>40-50</th>\n",
        "      <th>50-60</th>\n",
        "      <th>60-70</th>\n",
        "      <th>70-80</th>\n",
        "      <th>80-90</th>\n",
        "      <th>90-100</th>\n",
        "    </tr>\n",
        "  </thead>\n",
        "  <tbody>\n",
        "    <tr>\n",
        "      <th>0</th>\n",
        "      <td> 0</td>\n",
        "      <td> 0</td>\n",
        "      <td> 0</td>\n",
        "      <td> 0</td>\n",
        "      <td> 1</td>\n",
        "      <td> 0</td>\n",
        "      <td> 0</td>\n",
        "      <td> 0</td>\n",
        "      <td> 0</td>\n",
        "      <td> 0</td>\n",
        "    </tr>\n",
        "    <tr>\n",
        "      <th>1</th>\n",
        "      <td> 0</td>\n",
        "      <td> 0</td>\n",
        "      <td> 0</td>\n",
        "      <td> 0</td>\n",
        "      <td> 0</td>\n",
        "      <td> 0</td>\n",
        "      <td> 0</td>\n",
        "      <td> 0</td>\n",
        "      <td> 1</td>\n",
        "      <td> 0</td>\n",
        "    </tr>\n",
        "    <tr>\n",
        "      <th>2</th>\n",
        "      <td> 0</td>\n",
        "      <td> 0</td>\n",
        "      <td> 0</td>\n",
        "      <td> 1</td>\n",
        "      <td> 0</td>\n",
        "      <td> 0</td>\n",
        "      <td> 0</td>\n",
        "      <td> 0</td>\n",
        "      <td> 0</td>\n",
        "      <td> 0</td>\n",
        "    </tr>\n",
        "    <tr>\n",
        "      <th>3</th>\n",
        "      <td> 0</td>\n",
        "      <td> 0</td>\n",
        "      <td> 0</td>\n",
        "      <td> 0</td>\n",
        "      <td> 0</td>\n",
        "      <td> 1</td>\n",
        "      <td> 0</td>\n",
        "      <td> 0</td>\n",
        "      <td> 0</td>\n",
        "      <td> 0</td>\n",
        "    </tr>\n",
        "    <tr>\n",
        "      <th>4</th>\n",
        "      <td> 0</td>\n",
        "      <td> 0</td>\n",
        "      <td> 0</td>\n",
        "      <td> 0</td>\n",
        "      <td> 0</td>\n",
        "      <td> 0</td>\n",
        "      <td> 0</td>\n",
        "      <td> 1</td>\n",
        "      <td> 0</td>\n",
        "      <td> 0</td>\n",
        "    </tr>\n",
        "    <tr>\n",
        "      <th>5</th>\n",
        "      <td> 0</td>\n",
        "      <td> 0</td>\n",
        "      <td> 1</td>\n",
        "      <td> 0</td>\n",
        "      <td> 0</td>\n",
        "      <td> 0</td>\n",
        "      <td> 0</td>\n",
        "      <td> 0</td>\n",
        "      <td> 0</td>\n",
        "      <td> 0</td>\n",
        "    </tr>\n",
        "    <tr>\n",
        "      <th>6</th>\n",
        "      <td> 0</td>\n",
        "      <td> 1</td>\n",
        "      <td> 0</td>\n",
        "      <td> 0</td>\n",
        "      <td> 0</td>\n",
        "      <td> 0</td>\n",
        "      <td> 0</td>\n",
        "      <td> 0</td>\n",
        "      <td> 0</td>\n",
        "      <td> 0</td>\n",
        "    </tr>\n",
        "    <tr>\n",
        "      <th>7</th>\n",
        "      <td> 0</td>\n",
        "      <td> 0</td>\n",
        "      <td> 0</td>\n",
        "      <td> 0</td>\n",
        "      <td> 1</td>\n",
        "      <td> 0</td>\n",
        "      <td> 0</td>\n",
        "      <td> 0</td>\n",
        "      <td> 0</td>\n",
        "      <td> 0</td>\n",
        "    </tr>\n",
        "    <tr>\n",
        "      <th>8</th>\n",
        "      <td> 0</td>\n",
        "      <td> 0</td>\n",
        "      <td> 1</td>\n",
        "      <td> 0</td>\n",
        "      <td> 0</td>\n",
        "      <td> 0</td>\n",
        "      <td> 0</td>\n",
        "      <td> 0</td>\n",
        "      <td> 0</td>\n",
        "      <td> 0</td>\n",
        "    </tr>\n",
        "    <tr>\n",
        "      <th>9</th>\n",
        "      <td> 0</td>\n",
        "      <td> 0</td>\n",
        "      <td> 1</td>\n",
        "      <td> 0</td>\n",
        "      <td> 0</td>\n",
        "      <td> 0</td>\n",
        "      <td> 0</td>\n",
        "      <td> 0</td>\n",
        "      <td> 0</td>\n",
        "      <td> 0</td>\n",
        "    </tr>\n",
        "  </tbody>\n",
        "</table>\n",
        "</div>"
       ],
       "metadata": {},
       "output_type": "pyout",
       "prompt_number": 53,
       "text": [
        "   0-10  10-20  20-30  30-40  40-50  50-60  60-70  70-80  80-90  90-100\n",
        "0     0      0      0      0      1      0      0      0      0       0\n",
        "1     0      0      0      0      0      0      0      0      1       0\n",
        "2     0      0      0      1      0      0      0      0      0       0\n",
        "3     0      0      0      0      0      1      0      0      0       0\n",
        "4     0      0      0      0      0      0      0      1      0       0\n",
        "5     0      0      1      0      0      0      0      0      0       0\n",
        "6     0      1      0      0      0      0      0      0      0       0\n",
        "7     0      0      0      0      1      0      0      0      0       0\n",
        "8     0      0      1      0      0      0      0      0      0       0\n",
        "9     0      0      1      0      0      0      0      0      0       0"
       ]
      }
     ],
     "prompt_number": 53
    },
    {
     "cell_type": "code",
     "collapsed": false,
     "input": [
      "# invert_dummies\n",
      "x = dummies.stack()\n",
      "Series(pd.Categorical(x[x!=0].index.get_level_values(1)))"
     ],
     "language": "python",
     "metadata": {},
     "outputs": [
      {
       "metadata": {},
       "output_type": "pyout",
       "prompt_number": 54,
       "text": [
        "0    40-50\n",
        "1    80-90\n",
        "2    30-40\n",
        "3    50-60\n",
        "4    70-80\n",
        "5    20-30\n",
        "6    10-20\n",
        "7    40-50\n",
        "8    20-30\n",
        "9    20-30\n",
        "dtype: category\n",
        "Categories (7, object): [10-20 < 20-30 < 30-40 < 40-50 < 50-60 < 70-80 < 80-90]"
       ]
      }
     ],
     "prompt_number": 54
    },
    {
     "cell_type": "code",
     "collapsed": false,
     "input": [
      "# compare memory usage of object/cats\n",
      "df_object = DataFrame({'A' : np.random.randn(5), 'B' : Series(['a','foo','bar','a really long string','baz'])})\n",
      "df_cat = df_object.copy()\n",
      "df_cat['B'] = df_cat['B'].astype('category')\n",
      "df_object = pd.concat([df_object]*100000,ignore_index=True)\n",
      "df_cat = pd.concat([df_cat]*100000,ignore_index=True)\n",
      "df_object"
     ],
     "language": "python",
     "metadata": {},
     "outputs": [
      {
       "html": [
        "<div style=\"max-height:1000px;max-width:1500px;overflow:auto;\">\n",
        "<table border=\"1\" class=\"dataframe\">\n",
        "  <thead>\n",
        "    <tr style=\"text-align: right;\">\n",
        "      <th></th>\n",
        "      <th>A</th>\n",
        "      <th>B</th>\n",
        "    </tr>\n",
        "  </thead>\n",
        "  <tbody>\n",
        "    <tr>\n",
        "      <th>0     </th>\n",
        "      <td> 0.534236</td>\n",
        "      <td>                    a</td>\n",
        "    </tr>\n",
        "    <tr>\n",
        "      <th>1     </th>\n",
        "      <td>-0.511044</td>\n",
        "      <td>                  foo</td>\n",
        "    </tr>\n",
        "    <tr>\n",
        "      <th>2     </th>\n",
        "      <td>-0.008679</td>\n",
        "      <td>                  bar</td>\n",
        "    </tr>\n",
        "    <tr>\n",
        "      <th>3     </th>\n",
        "      <td>-0.321061</td>\n",
        "      <td> a really long string</td>\n",
        "    </tr>\n",
        "    <tr>\n",
        "      <th>4     </th>\n",
        "      <td> 1.056970</td>\n",
        "      <td>                  baz</td>\n",
        "    </tr>\n",
        "    <tr>\n",
        "      <th>5     </th>\n",
        "      <td> 0.534236</td>\n",
        "      <td>                    a</td>\n",
        "    </tr>\n",
        "    <tr>\n",
        "      <th>...</th>\n",
        "      <td>...</td>\n",
        "      <td>...</td>\n",
        "    </tr>\n",
        "    <tr>\n",
        "      <th>499994</th>\n",
        "      <td> 1.056970</td>\n",
        "      <td>                  baz</td>\n",
        "    </tr>\n",
        "    <tr>\n",
        "      <th>499995</th>\n",
        "      <td> 0.534236</td>\n",
        "      <td>                    a</td>\n",
        "    </tr>\n",
        "    <tr>\n",
        "      <th>499996</th>\n",
        "      <td>-0.511044</td>\n",
        "      <td>                  foo</td>\n",
        "    </tr>\n",
        "    <tr>\n",
        "      <th>499997</th>\n",
        "      <td>-0.008679</td>\n",
        "      <td>                  bar</td>\n",
        "    </tr>\n",
        "    <tr>\n",
        "      <th>499998</th>\n",
        "      <td>-0.321061</td>\n",
        "      <td> a really long string</td>\n",
        "    </tr>\n",
        "    <tr>\n",
        "      <th>499999</th>\n",
        "      <td> 1.056970</td>\n",
        "      <td>                  baz</td>\n",
        "    </tr>\n",
        "  </tbody>\n",
        "</table>\n",
        "<p>500000 rows \u00d7 2 columns</p>\n",
        "</div>"
       ],
       "metadata": {},
       "output_type": "pyout",
       "prompt_number": 55,
       "text": [
        "               A                     B\n",
        "0       0.534236                     a\n",
        "1      -0.511044                   foo\n",
        "2      -0.008679                   bar\n",
        "3      -0.321061  a really long string\n",
        "4       1.056970                   baz\n",
        "5       0.534236                     a\n",
        "...          ...                   ...\n",
        "499994  1.056970                   baz\n",
        "499995  0.534236                     a\n",
        "499996 -0.511044                   foo\n",
        "499997 -0.008679                   bar\n",
        "499998 -0.321061  a really long string\n",
        "499999  1.056970                   baz\n",
        "\n",
        "[500000 rows x 2 columns]"
       ]
      }
     ],
     "prompt_number": 55
    },
    {
     "cell_type": "code",
     "collapsed": false,
     "input": [
      "df_object.info()"
     ],
     "language": "python",
     "metadata": {},
     "outputs": [
      {
       "output_type": "stream",
       "stream": "stdout",
       "text": [
        "<class 'pandas.core.frame.DataFrame'>\n",
        "Int64Index: 500000 entries, 0 to 499999\n",
        "Data columns (total 2 columns):\n",
        "A    500000 non-null float64\n",
        "B    500000 non-null object\n",
        "dtypes: float64(1), object(1)\n",
        "memory usage: 11.4+ MB\n"
       ]
      }
     ],
     "prompt_number": 56
    },
    {
     "cell_type": "code",
     "collapsed": false,
     "input": [
      "df_cat.info()"
     ],
     "language": "python",
     "metadata": {},
     "outputs": [
      {
       "output_type": "stream",
       "stream": "stdout",
       "text": [
        "<class 'pandas.core.frame.DataFrame'>\n",
        "Int64Index: 500000 entries, 0 to 499999\n",
        "Data columns (total 2 columns):\n",
        "A    500000 non-null float64\n",
        "B    500000 non-null category\n",
        "dtypes: category(1), float64(1)\n",
        "memory usage: 8.1 MB\n"
       ]
      }
     ],
     "prompt_number": 57
    },
    {
     "cell_type": "code",
     "collapsed": false,
     "input": [
      "# on-disk, using HDF5\n",
      "df_object.to_hdf('test_object.h5','df',mode='w',format='table')\n",
      "df_cat.to_hdf('test_cat.h5','df',mode='w',format='table')\n",
      "!ls -ltr *.h5\n"
     ],
     "language": "python",
     "metadata": {},
     "outputs": [
      {
       "output_type": "stream",
       "stream": "stdout",
       "text": [
        "-rw-r--r--  1 jreback  staff  18381043 Nov 21 11:59 test_object.h5\r\n",
        "-rw-r--r--  1 jreback  staff   8913336 Nov 21 11:59 test_cat.h5\r\n"
       ]
      }
     ],
     "prompt_number": 58
    },
    {
     "cell_type": "code",
     "collapsed": false,
     "input": [
      "df_cat['B'].cat.codes.dtype"
     ],
     "language": "python",
     "metadata": {},
     "outputs": [
      {
       "metadata": {},
       "output_type": "pyout",
       "prompt_number": 31,
       "text": [
        "dtype('int8')"
       ]
      }
     ],
     "prompt_number": 31
    },
    {
     "cell_type": "code",
     "collapsed": false,
     "input": [
      "df_object['B'].dtype"
     ],
     "language": "python",
     "metadata": {},
     "outputs": [
      {
       "metadata": {},
       "output_type": "pyout",
       "prompt_number": 32,
       "text": [
        "dtype('O')"
       ]
      }
     ],
     "prompt_number": 32
    },
    {
     "cell_type": "code",
     "collapsed": false,
     "input": [],
     "language": "python",
     "metadata": {},
     "outputs": []
    }
   ],
   "metadata": {}
  }
 ]
}