{
 "metadata": {
  "name": "",
  "signature": "sha256:ce76c9f5d58d840a87212ff30a35a85d925ddee7a9ad00ea4ba4b9942a0c793b"
 },
 "nbformat": 3,
 "nbformat_minor": 0,
 "worksheets": [
  {
   "cells": [
    {
     "cell_type": "heading",
     "level": 1,
     "metadata": {},
     "source": [
      "Timedeltas"
     ]
    },
    {
     "cell_type": "markdown",
     "metadata": {},
     "source": [
      "docs: http://pandas.pydata.org/pandas-docs/stable/timedeltas.html"
     ]
    },
    {
     "cell_type": "code",
     "collapsed": false,
     "input": [
      "# partition the timedeltas\n",
      "import pandas\n",
      "import datetime    \n",
      "rawdata = [{'filename': 'image_1.jpg',\n",
      "  'timestamp': datetime.datetime(2014, 11, 13, 19, 14, 16, 152847)},\n",
      " {'filename': 'image_2.jpg',\n",
      "  'timestamp': datetime.datetime(2014, 11, 13, 19, 17, 16, 152847)},\n",
      " {'filename': 'image_3.jpg',\n",
      "  'timestamp': datetime.datetime(2014, 11, 13, 19, 20, 16, 152847)},\n",
      " {'filename': 'image_4.jpg',\n",
      "  'timestamp': datetime.datetime(2014, 11, 13, 20, 14, 16, 152847)},\n",
      " {'filename': 'image_5.jpg',\n",
      "  'timestamp': datetime.datetime(2014, 11, 13, 20, 17, 16, 152847)},\n",
      " {'filename': 'image_6.jpg',\n",
      "  'timestamp': datetime.datetime(2014, 11, 13, 20, 20, 16, 152847)}]\n",
      "df = pandas.DataFrame(rawdata)\n",
      "df"
     ],
     "language": "python",
     "metadata": {},
     "outputs": [
      {
       "html": [
        "<div style=\"max-height:1000px;max-width:1500px;overflow:auto;\">\n",
        "<table border=\"1\" class=\"dataframe\">\n",
        "  <thead>\n",
        "    <tr style=\"text-align: right;\">\n",
        "      <th></th>\n",
        "      <th>filename</th>\n",
        "      <th>timestamp</th>\n",
        "    </tr>\n",
        "  </thead>\n",
        "  <tbody>\n",
        "    <tr>\n",
        "      <th>0</th>\n",
        "      <td> image_1.jpg</td>\n",
        "      <td>2014-11-13 19:14:16.152847</td>\n",
        "    </tr>\n",
        "    <tr>\n",
        "      <th>1</th>\n",
        "      <td> image_2.jpg</td>\n",
        "      <td>2014-11-13 19:17:16.152847</td>\n",
        "    </tr>\n",
        "    <tr>\n",
        "      <th>2</th>\n",
        "      <td> image_3.jpg</td>\n",
        "      <td>2014-11-13 19:20:16.152847</td>\n",
        "    </tr>\n",
        "    <tr>\n",
        "      <th>3</th>\n",
        "      <td> image_4.jpg</td>\n",
        "      <td>2014-11-13 20:14:16.152847</td>\n",
        "    </tr>\n",
        "    <tr>\n",
        "      <th>4</th>\n",
        "      <td> image_5.jpg</td>\n",
        "      <td>2014-11-13 20:17:16.152847</td>\n",
        "    </tr>\n",
        "    <tr>\n",
        "      <th>5</th>\n",
        "      <td> image_6.jpg</td>\n",
        "      <td>2014-11-13 20:20:16.152847</td>\n",
        "    </tr>\n",
        "  </tbody>\n",
        "</table>\n",
        "</div>"
       ],
       "metadata": {},
       "output_type": "pyout",
       "prompt_number": 1,
       "text": [
        "      filename                  timestamp\n",
        "0  image_1.jpg 2014-11-13 19:14:16.152847\n",
        "1  image_2.jpg 2014-11-13 19:17:16.152847\n",
        "2  image_3.jpg 2014-11-13 19:20:16.152847\n",
        "3  image_4.jpg 2014-11-13 20:14:16.152847\n",
        "4  image_5.jpg 2014-11-13 20:17:16.152847\n",
        "5  image_6.jpg 2014-11-13 20:20:16.152847"
       ]
      }
     ],
     "prompt_number": 1
    },
    {
     "cell_type": "code",
     "collapsed": false,
     "input": [
      "df[\"timestamp\"].diff()\n",
      "df[\"timestamp\"].diff() > pd.Timedelta(minutes=30)\n",
      "(df[\"timestamp\"].diff() > pd.Timedelta(minutes=30)).cumsum()\n"
     ],
     "language": "python",
     "metadata": {},
     "outputs": [
      {
       "metadata": {},
       "output_type": "pyout",
       "prompt_number": 2,
       "text": [
        "0    0\n",
        "1    0\n",
        "2    0\n",
        "3    1\n",
        "4    1\n",
        "5    1\n",
        "Name: timestamp, dtype: int64"
       ]
      }
     ],
     "prompt_number": 2
    },
    {
     "cell_type": "code",
     "collapsed": false,
     "input": [
      "# sectioned grouping & timedeltas\n",
      "data = \",date,value\\n0,2014-11-13 18:06:00,1\\n1,2014-11-13 21:56:00,0\\n2,2014-11-14 03:40:00,1\\n3,2014-11-14 03:55:00,1\\n4,2014-11-14 05:09:00,0\\n\"\n",
      "df = pd.read_csv(StringIO(data),parse_dates=['date'],index_col=0)\n",
      "df"
     ],
     "language": "python",
     "metadata": {},
     "outputs": [
      {
       "html": [
        "<div style=\"max-height:1000px;max-width:1500px;overflow:auto;\">\n",
        "<table border=\"1\" class=\"dataframe\">\n",
        "  <thead>\n",
        "    <tr style=\"text-align: right;\">\n",
        "      <th></th>\n",
        "      <th>date</th>\n",
        "      <th>value</th>\n",
        "    </tr>\n",
        "  </thead>\n",
        "  <tbody>\n",
        "    <tr>\n",
        "      <th>0</th>\n",
        "      <td>2014-11-13 18:06:00</td>\n",
        "      <td> 1</td>\n",
        "    </tr>\n",
        "    <tr>\n",
        "      <th>1</th>\n",
        "      <td>2014-11-13 21:56:00</td>\n",
        "      <td> 0</td>\n",
        "    </tr>\n",
        "    <tr>\n",
        "      <th>2</th>\n",
        "      <td>2014-11-14 03:40:00</td>\n",
        "      <td> 1</td>\n",
        "    </tr>\n",
        "    <tr>\n",
        "      <th>3</th>\n",
        "      <td>2014-11-14 03:55:00</td>\n",
        "      <td> 1</td>\n",
        "    </tr>\n",
        "    <tr>\n",
        "      <th>4</th>\n",
        "      <td>2014-11-14 05:09:00</td>\n",
        "      <td> 0</td>\n",
        "    </tr>\n",
        "  </tbody>\n",
        "</table>\n",
        "</div>"
       ],
       "metadata": {},
       "output_type": "pyout",
       "prompt_number": 13,
       "text": [
        "                 date  value\n",
        "0 2014-11-13 18:06:00      1\n",
        "1 2014-11-13 21:56:00      0\n",
        "2 2014-11-14 03:40:00      1\n",
        "3 2014-11-14 03:55:00      1\n",
        "4 2014-11-14 05:09:00      0"
       ]
      }
     ],
     "prompt_number": 13
    },
    {
     "cell_type": "code",
     "collapsed": false,
     "input": [
      "#Create the grouper. This is a sectioner, that is it find the breakpoints where the value changes and creates groups based on that.\n",
      "df.value.diff(1)"
     ],
     "language": "python",
     "metadata": {},
     "outputs": [
      {
       "metadata": {},
       "output_type": "pyout",
       "prompt_number": 29,
       "text": [
        "0   NaN\n",
        "1    -1\n",
        "2     1\n",
        "3     0\n",
        "4    -1\n",
        "Name: value, dtype: float64"
       ]
      }
     ],
     "prompt_number": 29
    },
    {
     "cell_type": "code",
     "collapsed": false,
     "input": [
      "grouper = (df.value.diff(1)==1).cumsum()\n",
      "grouper"
     ],
     "language": "python",
     "metadata": {},
     "outputs": [
      {
       "metadata": {},
       "output_type": "pyout",
       "prompt_number": 28,
       "text": [
        "0    0\n",
        "1    0\n",
        "2    1\n",
        "3    1\n",
        "4    1\n",
        "Name: value, dtype: int64"
       ]
      }
     ],
     "prompt_number": 28
    },
    {
     "cell_type": "code",
     "collapsed": false,
     "input": [
      "g = df.groupby(grouper)\n",
      "\n",
      "# Calculate the date columns last value minus the first value, yielding a timedelta. These are per-GROUP (e.g. that's what the indices represent).\n",
      "g['date'].last()-g['date'].first()"
     ],
     "language": "python",
     "metadata": {},
     "outputs": [
      {
       "metadata": {},
       "output_type": "pyout",
       "prompt_number": 15,
       "text": [
        "value\n",
        "0       03:50:00\n",
        "1       01:29:00\n",
        "Name: date, dtype: timedelta64[ns]"
       ]
      }
     ],
     "prompt_number": 15
    },
    {
     "cell_type": "code",
     "collapsed": false,
     "input": [
      "# If you wanted to preserve where the original data comes from. This is a transform type of operation.\n",
      "result = g['date'].transform('last')-g['date'].transform('first')\n",
      "result"
     ],
     "language": "python",
     "metadata": {},
     "outputs": [
      {
       "metadata": {},
       "output_type": "pyout",
       "prompt_number": 16,
       "text": [
        "0   03:50:00\n",
        "1   03:50:00\n",
        "2   01:29:00\n",
        "3   01:29:00\n",
        "4   01:29:00\n",
        "dtype: timedelta64[ns]"
       ]
      }
     ],
     "prompt_number": 16
    },
    {
     "cell_type": "code",
     "collapsed": false,
     "input": [
      "# Then you need to select the indices where the original breakpoints happen.\n",
      "result.iloc[grouper.drop_duplicates(take_last=True).index]"
     ],
     "language": "python",
     "metadata": {},
     "outputs": [
      {
       "metadata": {},
       "output_type": "pyout",
       "prompt_number": 18,
       "text": [
        "1   03:50:00\n",
        "4   01:29:00\n",
        "dtype: timedelta64[ns]"
       ]
      }
     ],
     "prompt_number": 18
    },
    {
     "cell_type": "code",
     "collapsed": false,
     "input": [
      "# alternatively\n",
      "g.groups"
     ],
     "language": "python",
     "metadata": {},
     "outputs": [
      {
       "metadata": {},
       "output_type": "pyout",
       "prompt_number": 26,
       "text": [
        "{0: [0, 1], 1: [2, 3, 4]}"
       ]
      }
     ],
     "prompt_number": 26
    },
    {
     "cell_type": "code",
     "collapsed": false,
     "input": [
      "result.iloc[[ g_indexer[-1] for grp,g_indexer in g.groups.items() ]]"
     ],
     "language": "python",
     "metadata": {},
     "outputs": [
      {
       "metadata": {},
       "output_type": "pyout",
       "prompt_number": 27,
       "text": [
        "1   03:50:00\n",
        "4   01:29:00\n",
        "dtype: timedelta64[ns]"
       ]
      }
     ],
     "prompt_number": 27
    }
   ],
   "metadata": {}
  }
 ]
}