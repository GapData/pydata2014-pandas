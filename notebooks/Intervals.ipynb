{
 "metadata": {
  "name": "",
  "signature": "sha256:2c46ce820d9dc356eb7c96a03b7d62fab77ae974e9375fbc5a1f21e826cd99a1"
 },
 "nbformat": 3,
 "nbformat_minor": 0,
 "worksheets": [
  {
   "cells": [
    {
     "cell_type": "markdown",
     "metadata": {},
     "source": [
      "IntervalIndex\n",
      "\n",
      "https://github.com/pydata/pandas/pull/8707"
     ]
    },
    {
     "cell_type": "code",
     "collapsed": false,
     "input": [
      "d = {'foo': [10, 8, 4, 1], 'bar': [10, 20, 30, 40],\n",
      "     'baz': ['d', 'c', 'd', 'c']}\n",
      "df = pd.DataFrame(d)\n",
      "df['range'] = pd.cut(df['foo'], np.linspace(0, 20, 5))\n",
      "df"
     ],
     "language": "python",
     "metadata": {},
     "outputs": [
      {
       "html": [
        "<div style=\"max-height:1000px;max-width:1500px;overflow:auto;\">\n",
        "<table border=\"1\" class=\"dataframe\">\n",
        "  <thead>\n",
        "    <tr style=\"text-align: right;\">\n",
        "      <th></th>\n",
        "      <th>bar</th>\n",
        "      <th>baz</th>\n",
        "      <th>foo</th>\n",
        "      <th>range</th>\n",
        "    </tr>\n",
        "  </thead>\n",
        "  <tbody>\n",
        "    <tr>\n",
        "      <th>0</th>\n",
        "      <td> 10</td>\n",
        "      <td> d</td>\n",
        "      <td> 10</td>\n",
        "      <td> (5, 10]</td>\n",
        "    </tr>\n",
        "    <tr>\n",
        "      <th>1</th>\n",
        "      <td> 20</td>\n",
        "      <td> c</td>\n",
        "      <td>  8</td>\n",
        "      <td> (5, 10]</td>\n",
        "    </tr>\n",
        "    <tr>\n",
        "      <th>2</th>\n",
        "      <td> 30</td>\n",
        "      <td> d</td>\n",
        "      <td>  4</td>\n",
        "      <td>  (0, 5]</td>\n",
        "    </tr>\n",
        "    <tr>\n",
        "      <th>3</th>\n",
        "      <td> 40</td>\n",
        "      <td> c</td>\n",
        "      <td>  1</td>\n",
        "      <td>  (0, 5]</td>\n",
        "    </tr>\n",
        "  </tbody>\n",
        "</table>\n",
        "</div>"
       ],
       "metadata": {},
       "output_type": "pyout",
       "prompt_number": 10,
       "text": [
        "   bar baz  foo    range\n",
        "0   10   d   10  (5, 10]\n",
        "1   20   c    8  (5, 10]\n",
        "2   30   d    4   (0, 5]\n",
        "3   40   c    1   (0, 5]"
       ]
      }
     ],
     "prompt_number": 10
    },
    {
     "cell_type": "code",
     "collapsed": false,
     "input": [
      "df.dtypes"
     ],
     "language": "python",
     "metadata": {},
     "outputs": [
      {
       "metadata": {},
       "output_type": "pyout",
       "prompt_number": 11,
       "text": [
        "bar         int64\n",
        "baz        object\n",
        "foo         int64\n",
        "range    category\n",
        "dtype: object"
       ]
      }
     ],
     "prompt_number": 11
    },
    {
     "cell_type": "code",
     "collapsed": false,
     "input": [
      "df['range']"
     ],
     "language": "python",
     "metadata": {},
     "outputs": [
      {
       "metadata": {},
       "output_type": "pyout",
       "prompt_number": 12,
       "text": [
        "0    (5, 10]\n",
        "1    (5, 10]\n",
        "2     (0, 5]\n",
        "3     (0, 5]\n",
        "Name: range, dtype: category\n",
        "Categories (4, object): [(0, 5] < (5, 10] < (10, 15] < (15, 20]]"
       ]
      }
     ],
     "prompt_number": 12
    },
    {
     "cell_type": "code",
     "collapsed": false,
     "input": [
      "result = df.groupby(['range', 'baz']).mean()\n",
      "result"
     ],
     "language": "python",
     "metadata": {},
     "outputs": [
      {
       "html": [
        "<div style=\"max-height:1000px;max-width:1500px;overflow:auto;\">\n",
        "<table border=\"1\" class=\"dataframe\">\n",
        "  <thead>\n",
        "    <tr style=\"text-align: right;\">\n",
        "      <th></th>\n",
        "      <th></th>\n",
        "      <th>bar</th>\n",
        "      <th>foo</th>\n",
        "    </tr>\n",
        "    <tr>\n",
        "      <th>range</th>\n",
        "      <th>baz</th>\n",
        "      <th></th>\n",
        "      <th></th>\n",
        "    </tr>\n",
        "  </thead>\n",
        "  <tbody>\n",
        "    <tr>\n",
        "      <th rowspan=\"2\" valign=\"top\">(0, 5]</th>\n",
        "      <th>c</th>\n",
        "      <td> 40</td>\n",
        "      <td>  1</td>\n",
        "    </tr>\n",
        "    <tr>\n",
        "      <th>d</th>\n",
        "      <td> 30</td>\n",
        "      <td>  4</td>\n",
        "    </tr>\n",
        "    <tr>\n",
        "      <th rowspan=\"2\" valign=\"top\">(10, 15]</th>\n",
        "      <th>c</th>\n",
        "      <td>NaN</td>\n",
        "      <td>NaN</td>\n",
        "    </tr>\n",
        "    <tr>\n",
        "      <th>d</th>\n",
        "      <td>NaN</td>\n",
        "      <td>NaN</td>\n",
        "    </tr>\n",
        "    <tr>\n",
        "      <th rowspan=\"2\" valign=\"top\">(15, 20]</th>\n",
        "      <th>c</th>\n",
        "      <td>NaN</td>\n",
        "      <td>NaN</td>\n",
        "    </tr>\n",
        "    <tr>\n",
        "      <th>d</th>\n",
        "      <td>NaN</td>\n",
        "      <td>NaN</td>\n",
        "    </tr>\n",
        "    <tr>\n",
        "      <th rowspan=\"2\" valign=\"top\">(5, 10]</th>\n",
        "      <th>c</th>\n",
        "      <td> 20</td>\n",
        "      <td>  8</td>\n",
        "    </tr>\n",
        "    <tr>\n",
        "      <th>d</th>\n",
        "      <td> 10</td>\n",
        "      <td> 10</td>\n",
        "    </tr>\n",
        "  </tbody>\n",
        "</table>\n",
        "</div>"
       ],
       "metadata": {},
       "output_type": "pyout",
       "prompt_number": 13,
       "text": [
        "              bar  foo\n",
        "range    baz          \n",
        "(0, 5]   c     40    1\n",
        "         d     30    4\n",
        "(10, 15] c    NaN  NaN\n",
        "         d    NaN  NaN\n",
        "(15, 20] c    NaN  NaN\n",
        "         d    NaN  NaN\n",
        "(5, 10]  c     20    8\n",
        "         d     10   10"
       ]
      }
     ],
     "prompt_number": 13
    },
    {
     "cell_type": "code",
     "collapsed": false,
     "input": [
      "result.index.levels[0]"
     ],
     "language": "python",
     "metadata": {},
     "outputs": [
      {
       "metadata": {},
       "output_type": "pyout",
       "prompt_number": 14,
       "text": [
        "Index([u'(0, 5]', u'(10, 15]', u'(15, 20]', u'(5, 10]'], dtype='object')"
       ]
      }
     ],
     "prompt_number": 14
    },
    {
     "cell_type": "code",
     "collapsed": false,
     "input": [],
     "language": "python",
     "metadata": {},
     "outputs": [],
     "prompt_number": 14
    }
   ],
   "metadata": {}
  }
 ]
}