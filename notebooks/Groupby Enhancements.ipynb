{
 "metadata": {
  "name": "",
  "signature": "sha256:b3728348e73b99c8aec7a85f6e95eae99c45cb8427cd9d6b2334ea377ec2eee0"
 },
 "nbformat": 3,
 "nbformat_minor": 0,
 "worksheets": [
  {
   "cells": [
    {
     "cell_type": "heading",
     "level": 1,
     "metadata": {},
     "source": [
      "Groupby Enhancements"
     ]
    },
    {
     "cell_type": "markdown",
     "metadata": {},
     "source": [
      "docs: http://pandas.pydata.org/pandas-docs/stable/groupby.html#grouping-with-a-grouper-specification"
     ]
    },
    {
     "cell_type": "code",
     "collapsed": false,
     "input": [
      "from datetime import datetime\n",
      "df = DataFrame({\n",
      "             'Branch' : 'A A A A A A A B'.split(),\n",
      "             'Buyer': 'Carl Mark Carl Carl Joe Joe Joe Carl'.split(),\n",
      "             'Quantity': [1,3,5,1,8,1,9,3],\n",
      "             'Date' : [\n",
      "                 datetime(2013,10,1,13,0),\n",
      "                 datetime(2013,10,1,13,5),\n",
      "                 datetime(2013,10,1,20,0),\n",
      "                 datetime(2013,10,2,10,0),\n",
      "                 datetime(2013,10,1,20,0),\n",
      "                 datetime(2013,10,2,10,0),\n",
      "                 datetime(2013,10,2,12,0),\n",
      "                 datetime(2013,10,2,14,0),\n",
      "                 ]})\n",
      "df\n"
     ],
     "language": "python",
     "metadata": {},
     "outputs": [
      {
       "html": [
        "<div style=\"max-height:1000px;max-width:1500px;overflow:auto;\">\n",
        "<table border=\"1\" class=\"dataframe\">\n",
        "  <thead>\n",
        "    <tr style=\"text-align: right;\">\n",
        "      <th></th>\n",
        "      <th>Branch</th>\n",
        "      <th>Buyer</th>\n",
        "      <th>Date</th>\n",
        "      <th>Quantity</th>\n",
        "    </tr>\n",
        "  </thead>\n",
        "  <tbody>\n",
        "    <tr>\n",
        "      <th>0</th>\n",
        "      <td> A</td>\n",
        "      <td> Carl</td>\n",
        "      <td>2013-10-01 13:00:00</td>\n",
        "      <td> 1</td>\n",
        "    </tr>\n",
        "    <tr>\n",
        "      <th>1</th>\n",
        "      <td> A</td>\n",
        "      <td> Mark</td>\n",
        "      <td>2013-10-01 13:05:00</td>\n",
        "      <td> 3</td>\n",
        "    </tr>\n",
        "    <tr>\n",
        "      <th>2</th>\n",
        "      <td> A</td>\n",
        "      <td> Carl</td>\n",
        "      <td>2013-10-01 20:00:00</td>\n",
        "      <td> 5</td>\n",
        "    </tr>\n",
        "    <tr>\n",
        "      <th>3</th>\n",
        "      <td> A</td>\n",
        "      <td> Carl</td>\n",
        "      <td>2013-10-02 10:00:00</td>\n",
        "      <td> 1</td>\n",
        "    </tr>\n",
        "    <tr>\n",
        "      <th>4</th>\n",
        "      <td> A</td>\n",
        "      <td>  Joe</td>\n",
        "      <td>2013-10-01 20:00:00</td>\n",
        "      <td> 8</td>\n",
        "    </tr>\n",
        "    <tr>\n",
        "      <th>5</th>\n",
        "      <td> A</td>\n",
        "      <td>  Joe</td>\n",
        "      <td>2013-10-02 10:00:00</td>\n",
        "      <td> 1</td>\n",
        "    </tr>\n",
        "    <tr>\n",
        "      <th>6</th>\n",
        "      <td> A</td>\n",
        "      <td>  Joe</td>\n",
        "      <td>2013-10-02 12:00:00</td>\n",
        "      <td> 9</td>\n",
        "    </tr>\n",
        "    <tr>\n",
        "      <th>7</th>\n",
        "      <td> B</td>\n",
        "      <td> Carl</td>\n",
        "      <td>2013-10-02 14:00:00</td>\n",
        "      <td> 3</td>\n",
        "    </tr>\n",
        "  </tbody>\n",
        "</table>\n",
        "</div>"
       ],
       "metadata": {},
       "output_type": "pyout",
       "prompt_number": 1,
       "text": [
        "  Branch Buyer                Date  Quantity\n",
        "0      A  Carl 2013-10-01 13:00:00         1\n",
        "1      A  Mark 2013-10-01 13:05:00         3\n",
        "2      A  Carl 2013-10-01 20:00:00         5\n",
        "3      A  Carl 2013-10-02 10:00:00         1\n",
        "4      A   Joe 2013-10-01 20:00:00         8\n",
        "5      A   Joe 2013-10-02 10:00:00         1\n",
        "6      A   Joe 2013-10-02 12:00:00         9\n",
        "7      B  Carl 2013-10-02 14:00:00         3"
       ]
      }
     ],
     "prompt_number": 1
    },
    {
     "cell_type": "code",
     "collapsed": false,
     "input": [
      "df.groupby('Buyer')['Quantity'].count()"
     ],
     "language": "python",
     "metadata": {},
     "outputs": [
      {
       "metadata": {},
       "output_type": "pyout",
       "prompt_number": 2,
       "text": [
        "Buyer\n",
        "Carl     4\n",
        "Joe      3\n",
        "Mark     1\n",
        "Name: Quantity, dtype: int64"
       ]
      }
     ],
     "prompt_number": 2
    },
    {
     "cell_type": "code",
     "collapsed": false,
     "input": [
      "df.set_index('Date')['Quantity'].resample('1D',how='count')"
     ],
     "language": "python",
     "metadata": {},
     "outputs": [
      {
       "metadata": {},
       "output_type": "pyout",
       "prompt_number": 3,
       "text": [
        "Date\n",
        "2013-10-01    4\n",
        "2013-10-02    4\n",
        "Freq: D, Name: Quantity, dtype: int64"
       ]
      }
     ],
     "prompt_number": 3
    },
    {
     "cell_type": "code",
     "collapsed": false,
     "input": [
      "# traditional way\n",
      "df.set_index('Date').groupby('Buyer')['Quantity'].resample('1D',how='count')"
     ],
     "language": "python",
     "metadata": {},
     "outputs": [
      {
       "metadata": {},
       "output_type": "pyout",
       "prompt_number": 4,
       "text": [
        "Buyer  Date      \n",
        "Carl   2013-10-01    2\n",
        "       2013-10-02    2\n",
        "Joe    2013-10-01    1\n",
        "       2013-10-02    2\n",
        "Mark   2013-10-01    1\n",
        "dtype: int64"
       ]
      }
     ],
     "prompt_number": 4
    },
    {
     "cell_type": "code",
     "collapsed": false,
     "input": [
      "# groupby then resample\n",
      "df.groupby(['Buyer',pd.Grouper(freq='1D',key='Date')])['Quantity'].count()"
     ],
     "language": "python",
     "metadata": {},
     "outputs": [
      {
       "metadata": {},
       "output_type": "pyout",
       "prompt_number": 5,
       "text": [
        "Buyer  Date      \n",
        "Carl   2013-10-01    2\n",
        "       2013-10-02    2\n",
        "Joe    2013-10-01    1\n",
        "       2013-10-02    2\n",
        "Mark   2013-10-01    1\n",
        "Name: Quantity, dtype: int64"
       ]
      }
     ],
     "prompt_number": 5
    },
    {
     "cell_type": "code",
     "collapsed": false,
     "input": [
      "# same but reverse the resample/groupby\n",
      "df.groupby([pd.Grouper(freq='1D',key='Date'),'Buyer'])['Quantity'].count()"
     ],
     "language": "python",
     "metadata": {},
     "outputs": [
      {
       "metadata": {},
       "output_type": "pyout",
       "prompt_number": 6,
       "text": [
        "Date        Buyer\n",
        "2013-10-01  Carl     2\n",
        "            Joe      1\n",
        "            Mark     1\n",
        "2013-10-02  Carl     2\n",
        "            Joe      2\n",
        "Name: Quantity, dtype: int64"
       ]
      }
     ],
     "prompt_number": 6
    },
    {
     "cell_type": "code",
     "collapsed": false,
     "input": [
      "# chain multiple groupers easily\n",
      "df.groupby(['Buyer',pd.Grouper(freq='1D',key='Date'),'Branch'])['Quantity'].count()"
     ],
     "language": "python",
     "metadata": {},
     "outputs": [
      {
       "metadata": {},
       "output_type": "pyout",
       "prompt_number": 7,
       "text": [
        "Buyer  Date        Branch\n",
        "Carl   2013-10-01  A         2\n",
        "       2013-10-02  A         1\n",
        "                   B         1\n",
        "Joe    2013-10-01  A         1\n",
        "       2013-10-02  A         2\n",
        "Mark   2013-10-01  A         1\n",
        "Name: Quantity, dtype: int64"
       ]
      }
     ],
     "prompt_number": 7
    },
    {
     "cell_type": "code",
     "collapsed": false,
     "input": [],
     "language": "python",
     "metadata": {},
     "outputs": []
    }
   ],
   "metadata": {}
  }
 ]
}