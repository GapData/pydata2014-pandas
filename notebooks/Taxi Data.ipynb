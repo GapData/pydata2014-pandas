{
 "metadata": {
  "name": "",
  "signature": "sha256:26a6a80e549eb3547260dfbd5783809a258943209c4d5e1d299cd6be1602abe9"
 },
 "nbformat": 3,
 "nbformat_minor": 0,
 "worksheets": [
  {
   "cells": [
    {
     "cell_type": "markdown",
     "metadata": {},
     "source": [
      "Taxi Database"
     ]
    },
    {
     "cell_type": "code",
     "collapsed": false,
     "input": [
      "# read in an convert to h5\n",
      "def convert():\n",
      "    tr = pd.read_csv('../data/final.csv',\n",
      "                      chunksize=2000000,\n",
      "                      names=\"medallion,hack_license,vendor_id,rate_code,store_and_fwd_flag,pickup_date,pickup_time,dropoff_date,dropoff_time,passenger_count,trip_time_in_secs,trip_distance,pickup_longitude,pickup_latitude,dropoff_longitude,dropoff_latitude\".split(','),\n",
      "                      dtype={'store_and_fwd_flag' : object})\n",
      "\n",
      "    def parse_dates(df, name):\n",
      "\n",
      "        date = df.pop(\"%s_date\" % name)\n",
      "        time = df.pop(\"%s_time\" % name)\n",
      "        df[name] = pd.to_datetime(date + ' ' + time,infer_datetime_format=True)\n",
      "        return df\n",
      "\n",
      "    categories = {}\n",
      "    def parse_cats(df, name):\n",
      "\n",
      "        field = df.pop(name)\n",
      "        cats = categories.get(name)\n",
      "        df[name] = pd.Categorical(field, categories=cats)\n",
      "        if cats is None:\n",
      "            categories[name] = df[name].cat.categories\n",
      "        return df\n",
      "\n",
      "    store = pd.HDFStore('../data/final.h5',mode='w')\n",
      "    for i, df in enumerate(tr):\n",
      "        \n",
      "        # convert dates\n",
      "        for name in ['pickup','dropoff']:\n",
      "            df = parse_dates(df, name)\n",
      "\n",
      "        # convert objects to cats\n",
      "        for name in ['medallion','hack_license','vendor_id','store_and_fwd_flag']:\n",
      "            df = parse_cats(df, name)\n",
      "\n",
      "        store.append('df',df,format='table',data_columns=True,index=False)\n",
      "    store.close()"
     ],
     "language": "python",
     "metadata": {},
     "outputs": [],
     "prompt_number": 7
    },
    {
     "cell_type": "code",
     "collapsed": false,
     "input": [
      "%timeit -n 1 -r 1 convert()\n"
     ],
     "language": "python",
     "metadata": {},
     "outputs": [
      {
       "output_type": "stream",
       "stream": "stdout",
       "text": [
        "1 loops, best of 1: 7min 44s per loop\n"
       ]
      }
     ],
     "prompt_number": 8
    },
    {
     "cell_type": "code",
     "collapsed": false,
     "input": [
      "# define the grouper\n",
      "def groupby(store, grouper, field):\n",
      "    \"\"\" return sum, counts for the grouped field \"\"\"\n",
      "    nrows = store.get_storer('df').nrows\n",
      "\n",
      "    def chunker():\n",
      "        chunksize = 5000000\n",
      "        for i, chunk in enumerate(range(nrows/chunksize)):\n",
      "\n",
      "            start = chunk*chunksize\n",
      "            stop = min((chunk+1)*chunksize,nrows)\n",
      "            yield start, stop\n",
      "        \n",
      "    sums = []\n",
      "    counts = []\n",
      "    for start, stop in chunker():\n",
      "        grp = store.select_column('df',grouper,start=start,stop=stop)\n",
      "        data = store.select_column('df',field,start=start,stop=stop)\n",
      "\n",
      "        df = pd.DataFrame({'grp' : grp, 'data' : data})\n",
      "        g = df.groupby('grp')['data']\n",
      "        sums.append(g.sum())\n",
      "        counts.append(g.count())\n",
      "\n",
      "    sums = pd.concat(sums)\n",
      "    counts = pd.concat(counts)\n",
      "    sums = sums.groupby(level='grp').sum()\n",
      "    counts = counts.groupby(level='grp').sum()\n",
      "\n",
      "    return sums, counts"
     ],
     "language": "python",
     "metadata": {},
     "outputs": [],
     "prompt_number": 17
    },
    {
     "cell_type": "code",
     "collapsed": false,
     "input": [
      "with pd.get_store('../data/final.h5') as store:\n",
      "    print store.get_storer('df').nrows"
     ],
     "language": "python",
     "metadata": {},
     "outputs": [
      {
       "output_type": "stream",
       "stream": "stdout",
       "text": [
        "98835718\n"
       ]
      }
     ],
     "prompt_number": 19
    },
    {
     "cell_type": "code",
     "collapsed": false,
     "input": [
      "def groupby_medallion_counts():\n",
      "    with pd.get_store('../data/final.h5') as store:\n",
      "        sums, counts  = groupby(store, 'medallion', 'passenger_count')\n",
      "        #print sums/counts\n",
      "%timeit -n 1 -r 1 groupby_medallion_counts()"
     ],
     "language": "python",
     "metadata": {},
     "outputs": []
    },
    {
     "cell_type": "code",
     "collapsed": false,
     "input": [],
     "language": "python",
     "metadata": {},
     "outputs": []
    }
   ],
   "metadata": {}
  }
 ]
}