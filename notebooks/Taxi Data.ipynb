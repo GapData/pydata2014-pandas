{
 "metadata": {
  "name": "",
  "signature": "sha256:9ebb8cc023a7372a593e7467f9195a317eae3a4e8c25d5f8292656dcb457d63d"
 },
 "nbformat": 3,
 "nbformat_minor": 0,
 "worksheets": [
  {
   "cells": [
    {
     "cell_type": "markdown",
     "metadata": {},
     "source": [
      "Taxi Database\n",
      "http://www.andresmh.com/nyctaxitrips/"
     ]
    },
    {
     "cell_type": "code",
     "collapsed": false,
     "input": [
      "# read in an convert the trip data to h5\n",
      "def convert_trip():\n",
      "    tr = pd.read_csv('../data/final.csv',\n",
      "                      chunksize=2000000,\n",
      "                      names=\"medallion,hack_license,vendor_id,rate_code,store_and_fwd_flag,pickup_date,pickup_time,dropoff_date,dropoff_time,passenger_count,trip_time_in_secs,trip_distance,pickup_longitude,pickup_latitude,dropoff_longitude,dropoff_latitude\".split(','),\n",
      "                      dtype={'store_and_fwd_flag' : object})\n",
      "\n",
      "    def parse_dates(df, name):\n",
      "\n",
      "        date = df.pop(\"%s_date\" % name)\n",
      "        time = df.pop(\"%s_time\" % name)\n",
      "        df[name] = pd.to_datetime(date + ' ' + time,infer_datetime_format=True)\n",
      "        return df\n",
      "\n",
      "    categories = {}\n",
      "    def parse_cats(df, name):\n",
      "\n",
      "        field = df.pop(name)\n",
      "        cats = categories.get(name)\n",
      "        df[name] = pd.Categorical(field, categories=cats)\n",
      "        if cats is None:\n",
      "            categories[name] = df[name].cat.categories\n",
      "        return df\n",
      "\n",
      "    store = pd.HDFStore('../data/final.h5',mode='w')\n",
      "    for i, df in enumerate(tr):\n",
      "        \n",
      "        # convert dates\n",
      "        for name in ['pickup','dropoff']:\n",
      "            df = parse_dates(df, name)\n",
      "\n",
      "        # convert objects to cats\n",
      "        for name in ['medallion','hack_license','vendor_id','store_and_fwd_flag']:\n",
      "            df = parse_cats(df, name)\n",
      "\n",
      "        store.append('df',df,format='table',data_columns=True,index=False)\n",
      "    store.close()\n",
      "    \n",
      "def convert_fare():\n",
      "    import glob\n",
      "    store = pd.HDFStore('../data/fare.h5',mode='w')\n",
      "    for file in glob.glob('../data/trip_fare_*.csv'):\n",
      "        df = pd.read_csv(file)\n",
      "        df.columns = df.columns.to_series().str.strip()\n",
      "        \n",
      "        categories = {}\n",
      "        def parse_cats(df, name):\n",
      "\n",
      "            field = df.pop(name)\n",
      "            cats = categories.get(name)\n",
      "            df[name] = pd.Categorical(field, categories=cats)\n",
      "            if cats is None:\n",
      "                categories[name] = df[name].cat.categories\n",
      "            return df\n",
      "\n",
      "        # convert dates\n",
      "        df['pickup_datetime'] = pd.to_datetime(df['pickup_datetime'])\n",
      "        \n",
      "        # convert objects to cats\n",
      "        for name in ['medallion','hack_license','vendor_id','payment_type']:\n",
      "            df = parse_cats(df, name)\n",
      "\n",
      "        store.append('df',df,format='table',data_columns=True,index=False)\n",
      "    store.close()"
     ],
     "language": "python",
     "metadata": {},
     "outputs": [],
     "prompt_number": 26
    },
    {
     "cell_type": "code",
     "collapsed": false,
     "input": [
      "%timeit -n 1 -r 1 convert_trip()"
     ],
     "language": "python",
     "metadata": {},
     "outputs": [
      {
       "output_type": "stream",
       "stream": "stdout",
       "text": [
        "1 loops, best of 1: 7min 40s per loop\n"
       ]
      }
     ],
     "prompt_number": 27
    },
    {
     "cell_type": "code",
     "collapsed": false,
     "input": [
      "%timeit -n 1 -r 1 convert_fare()"
     ],
     "language": "python",
     "metadata": {},
     "outputs": [
      {
       "output_type": "stream",
       "stream": "stdout",
       "text": [
        "1 loops, best of 1: 48.7 s per loop\n"
       ]
      }
     ],
     "prompt_number": 3
    },
    {
     "cell_type": "code",
     "collapsed": false,
     "input": [
      "# define the grouper\n",
      "def groupby(store, grouper, field, gfunc=None):\n",
      "    \"\"\" return sum, counts for the grouped field \"\"\"\n",
      "    nrows = store.get_storer('df').nrows\n",
      "\n",
      "    def chunker():\n",
      "        chunksize = 5000000\n",
      "        for i, chunk in enumerate(range(nrows/chunksize)):\n",
      "\n",
      "            start = chunk*chunksize\n",
      "            stop = min((chunk+1)*chunksize,nrows)\n",
      "            yield start, stop\n",
      "        \n",
      "    sums = []\n",
      "    counts = []\n",
      "    for start, stop in chunker():\n",
      "        df = store.select('df',start=start,stop=stop,columns=[grouper,field])\n",
      "        df.columns = ['grp','data']\n",
      "        \n",
      "        if gfunc is not None:\n",
      "            df['grp'] = gfunc(df['grp'])\n",
      "        g = df.groupby('grp')['data']\n",
      "        sums.append(g.sum())\n",
      "        counts.append(g.count())\n",
      "\n",
      "    sums = pd.concat(sums)\n",
      "    counts = pd.concat(counts)\n",
      "    sums = sums.groupby(level='grp').sum()\n",
      "    counts = counts.groupby(level='grp').sum()\n",
      "\n",
      "    return sums, counts"
     ],
     "language": "python",
     "metadata": {},
     "outputs": [],
     "prompt_number": 20
    },
    {
     "cell_type": "code",
     "collapsed": false,
     "input": [
      "with pd.get_store('../data/final.h5') as store:\n",
      "    print store.get_storer('df').nrows\n",
      "    \n",
      "!ls -ltr ../data/final.*"
     ],
     "language": "python",
     "metadata": {},
     "outputs": [
      {
       "output_type": "stream",
       "stream": "stdout",
       "text": [
        "98835718\n",
        "-rw-r--r--  1 jreback  staff  16467220329 Nov 16 20:00 ../data/final.csv\r\n",
        "-rw-r--r--  2 jreback  staff   9292830544 Nov 17 17:45 ../data/final.h5\r\n"
       ]
      }
     ],
     "prompt_number": 24
    },
    {
     "cell_type": "code",
     "collapsed": false,
     "input": [
      "def groupby_medallion_counts():\n",
      "    with pd.get_store('../data/final.h5') as store:\n",
      "        sums, counts  = groupby(store, 'medallion', 'passenger_count')\n",
      "        #print sums/counts\n",
      "%timeit -n 1 -r 1 groupby_medallion_counts()"
     ],
     "language": "python",
     "metadata": {},
     "outputs": [
      {
       "output_type": "stream",
       "stream": "stdout",
       "text": [
        "1 loops, best of 1: 22.9 s per loop\n"
       ]
      }
     ],
     "prompt_number": 22
    },
    {
     "cell_type": "code",
     "collapsed": false,
     "input": [
      "with pd.get_store('../data/fare.h5') as store:\n",
      "    print store.get_storer('df').nrows\n",
      "    \n",
      "!ls -ltr ../data/*fare*"
     ],
     "language": "python",
     "metadata": {},
     "outputs": [
      {
       "output_type": "stream",
       "stream": "stdout",
       "text": [
        "14776615\n",
        "-rwxrwxrwx@ 1 jreback  staff  1681610043 Aug 25  2013 \u001b[31m../data/trip_fare_1.csv\u001b[m\u001b[m\r\n",
        "-rw-r--r--  1 jreback  staff  1036057072 Nov 17 19:43 ../data/fare.h5\r\n"
       ]
      }
     ],
     "prompt_number": 4
    },
    {
     "cell_type": "code",
     "collapsed": false,
     "input": [
      "# chunking\n",
      "def groupby_avg_fares():\n",
      "    with pd.get_store('../data/fare.h5') as store:\n",
      "        sums, counts = groupby(store, 'pickup_datetime', 'fare_amount', gfunc=lambda x: x.dt.day)\n",
      "        #print sums/counts\n",
      "%timeit -n 1 -r 1 groupby_avg_fares()"
     ],
     "language": "python",
     "metadata": {},
     "outputs": [
      {
       "output_type": "stream",
       "stream": "stdout",
       "text": [
        "1 loops, best of 1: 6.58 s per loop\n"
       ]
      }
     ],
     "prompt_number": 23
    },
    {
     "cell_type": "code",
     "collapsed": false,
     "input": [
      "# in memory\n",
      "x = pd.read_hdf('../data/fare.h5','df',columns=['pickup_datetime','fare_amount']).set_index('pickup_datetime')\n",
      "%timeit -n 1 -r 1 x.resample('D',how='mean')"
     ],
     "language": "python",
     "metadata": {},
     "outputs": [
      {
       "output_type": "stream",
       "stream": "stdout",
       "text": [
        "1 loops, best of 1: 2 s per loop\n"
       ]
      }
     ],
     "prompt_number": 25
    },
    {
     "cell_type": "code",
     "collapsed": false,
     "input": [],
     "language": "python",
     "metadata": {},
     "outputs": []
    }
   ],
   "metadata": {}
  }
 ]
}