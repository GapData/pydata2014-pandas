{
 "metadata": {
  "name": "",
  "signature": "sha256:cfd452ec17a8b2562ef741e4884017d69b39d1c198cf94aa698473723ef09063"
 },
 "nbformat": 3,
 "nbformat_minor": 0,
 "worksheets": [
  {
   "cells": [
    {
     "cell_type": "code",
     "collapsed": false,
     "input": [
      "# http://www.ffiec.gov/hmda/\n",
      "# http://files.consumerfinance.gov/hmda/hmda_lar-2012.csv.gz\n",
      "pd.set_option('max_rows',12,'max_columns',10)"
     ],
     "language": "python",
     "metadata": {},
     "outputs": [],
     "prompt_number": 1
    },
    {
     "cell_type": "code",
     "collapsed": false,
     "input": [
      "# read in portions of the data set\n",
      "df = pd.read_csv('hmda_lar-2012.csv',\n",
      "                 usecols=['action_taken_name', 'agency_abbr', 'applicant_ethnicity_name',\n",
      "                          'applicant_race_name_1', 'applicant_sex_name',\n",
      "                          'loan_purpose_name', 'state_abbr','hud_median_family_income','loan_amount_000s'],\n",
      "                 na_values=['Not applicable'],\n",
      "                 nrows=5000000)\n",
      "df.columns = ['taken','agency','ethnicity','race','sex','purpose','state','income','amount']\n",
      "df.info(null_counts=True)"
     ],
     "language": "python",
     "metadata": {},
     "outputs": [
      {
       "output_type": "stream",
       "stream": "stdout",
       "text": [
        "<class 'pandas.core.frame.DataFrame'>\n",
        "Int64Index: 5000000 entries, 0 to 4999999\n",
        "Data columns (total 9 columns):\n",
        "taken        5000000 non-null object\n",
        "agency       5000000 non-null object\n",
        "ethnicity    4590058 non-null object\n",
        "race         4590882 non-null object\n",
        "sex          4590912 non-null object\n",
        "purpose      5000000 non-null object\n",
        "state        4916984 non-null object\n",
        "income       4894106 non-null float64\n",
        "amount       5000000 non-null int64\n",
        "dtypes: float64(1), int64(1), object(7)\n",
        "memory usage: 381.5+ MB\n"
       ]
      }
     ],
     "prompt_number": 2
    },
    {
     "cell_type": "code",
     "collapsed": false,
     "input": [
      "# assign meaningful values\n",
      "df['taken'] = df['taken'].astype('category')\n",
      "\n",
      "for col in ['agency','ethnicity','race','sex','purpose','state']:\n",
      "    df[col] = pd.Categorical(df[col],ordered=False)"
     ],
     "language": "python",
     "metadata": {},
     "outputs": [],
     "prompt_number": 6
    },
    {
     "cell_type": "code",
     "collapsed": false,
     "input": [
      "df.info(null_counts=True)"
     ],
     "language": "python",
     "metadata": {},
     "outputs": [
      {
       "output_type": "stream",
       "stream": "stdout",
       "text": [
        "<class 'pandas.core.frame.DataFrame'>\n",
        "Int64Index: 5000000 entries, 0 to 4999999\n",
        "Data columns (total 9 columns):\n",
        "taken        5000000 non-null category\n",
        "agency       5000000 non-null category\n",
        "ethnicity    4590058 non-null category\n",
        "race         4590882 non-null category\n",
        "sex          4590912 non-null category\n",
        "purpose      5000000 non-null category\n",
        "state        4916984 non-null category\n",
        "income       4894106 non-null float64\n",
        "amount       5000000 non-null int64\n",
        "dtypes: category(7), float64(1), int64(1)\n",
        "memory usage: 147.8 MB\n"
       ]
      }
     ],
     "prompt_number": 7
    },
    {
     "cell_type": "code",
     "collapsed": false,
     "input": [
      "df.head()"
     ],
     "language": "python",
     "metadata": {},
     "outputs": [
      {
       "html": [
        "<div style=\"max-height:1000px;max-width:1500px;overflow:auto;\">\n",
        "<table border=\"1\" class=\"dataframe\">\n",
        "  <thead>\n",
        "    <tr style=\"text-align: right;\">\n",
        "      <th></th>\n",
        "      <th>taken</th>\n",
        "      <th>agency</th>\n",
        "      <th>ethnicity</th>\n",
        "      <th>race</th>\n",
        "      <th>sex</th>\n",
        "      <th>purpose</th>\n",
        "      <th>state</th>\n",
        "      <th>income</th>\n",
        "      <th>amount</th>\n",
        "    </tr>\n",
        "  </thead>\n",
        "  <tbody>\n",
        "    <tr>\n",
        "      <th>0</th>\n",
        "      <td>                   Loan originated</td>\n",
        "      <td>  HUD</td>\n",
        "      <td> Not Hispanic or Latino</td>\n",
        "      <td> White</td>\n",
        "      <td>   Male</td>\n",
        "      <td>      Refinancing</td>\n",
        "      <td> IL</td>\n",
        "      <td> 77300</td>\n",
        "      <td> 264</td>\n",
        "    </tr>\n",
        "    <tr>\n",
        "      <th>1</th>\n",
        "      <td>                   Loan originated</td>\n",
        "      <td> NCUA</td>\n",
        "      <td> Not Hispanic or Latino</td>\n",
        "      <td> White</td>\n",
        "      <td>   Male</td>\n",
        "      <td>      Refinancing</td>\n",
        "      <td> MI</td>\n",
        "      <td> 52100</td>\n",
        "      <td> 116</td>\n",
        "    </tr>\n",
        "    <tr>\n",
        "      <th>2</th>\n",
        "      <td> Loan purchased by the institution</td>\n",
        "      <td> CFPB</td>\n",
        "      <td>                    NaN</td>\n",
        "      <td>   NaN</td>\n",
        "      <td>    NaN</td>\n",
        "      <td>      Refinancing</td>\n",
        "      <td> AR</td>\n",
        "      <td> 58200</td>\n",
        "      <td> 159</td>\n",
        "    </tr>\n",
        "    <tr>\n",
        "      <th>3</th>\n",
        "      <td> Loan purchased by the institution</td>\n",
        "      <td> CFPB</td>\n",
        "      <td> Not Hispanic or Latino</td>\n",
        "      <td> White</td>\n",
        "      <td> Female</td>\n",
        "      <td>      Refinancing</td>\n",
        "      <td> MN</td>\n",
        "      <td> 83900</td>\n",
        "      <td> 100</td>\n",
        "    </tr>\n",
        "    <tr>\n",
        "      <th>4</th>\n",
        "      <td>                   Loan originated</td>\n",
        "      <td> FDIC</td>\n",
        "      <td> Not Hispanic or Latino</td>\n",
        "      <td> White</td>\n",
        "      <td>   Male</td>\n",
        "      <td> Home improvement</td>\n",
        "      <td> IN</td>\n",
        "      <td> 63800</td>\n",
        "      <td> 267</td>\n",
        "    </tr>\n",
        "  </tbody>\n",
        "</table>\n",
        "</div>"
       ],
       "metadata": {},
       "output_type": "pyout",
       "prompt_number": 8,
       "text": [
        "                               taken agency               ethnicity   race     sex           purpose state  income  amount\n",
        "0                    Loan originated    HUD  Not Hispanic or Latino  White    Male       Refinancing    IL   77300     264\n",
        "1                    Loan originated   NCUA  Not Hispanic or Latino  White    Male       Refinancing    MI   52100     116\n",
        "2  Loan purchased by the institution   CFPB                     NaN    NaN     NaN       Refinancing    AR   58200     159\n",
        "3  Loan purchased by the institution   CFPB  Not Hispanic or Latino  White  Female       Refinancing    MN   83900     100\n",
        "4                    Loan originated   FDIC  Not Hispanic or Latino  White    Male  Home improvement    IN   63800     267"
       ]
      }
     ],
     "prompt_number": 8
    },
    {
     "cell_type": "code",
     "collapsed": false,
     "input": [
      "df['agency'].cat.categories"
     ],
     "language": "python",
     "metadata": {},
     "outputs": [
      {
       "metadata": {},
       "output_type": "pyout",
       "prompt_number": 9,
       "text": [
        "Index([u'CFPB', u'FDIC', u'FRS', u'HUD', u'NCUA', u'OCC'], dtype='object')"
       ]
      }
     ],
     "prompt_number": 9
    },
    {
     "cell_type": "code",
     "collapsed": false,
     "input": [
      "df['agency'].cat.codes"
     ],
     "language": "python",
     "metadata": {},
     "outputs": [
      {
       "metadata": {},
       "output_type": "pyout",
       "prompt_number": 10,
       "text": [
        "0    3\n",
        "1    4\n",
        "2    0\n",
        "3    0\n",
        "...\n",
        "4999996    0\n",
        "4999997    4\n",
        "4999998    0\n",
        "4999999    0\n",
        "Length: 5000000, dtype: int8"
       ]
      }
     ],
     "prompt_number": 10
    },
    {
     "cell_type": "code",
     "collapsed": false,
     "input": [
      "df['taken']"
     ],
     "language": "python",
     "metadata": {},
     "outputs": [
      {
       "metadata": {},
       "output_type": "pyout",
       "prompt_number": 11,
       "text": [
        "0                      Loan originated\n",
        "1                      Loan originated\n",
        "2    Loan purchased by the institution\n",
        "3    Loan purchased by the institution\n",
        "...\n",
        "4999996                       Loan originated\n",
        "4999997    Application withdrawn by applicant\n",
        "4999998                       Loan originated\n",
        "4999999     Loan purchased by the institution\n",
        "Name: taken, Length: 5000000, dtype: category\n",
        "Categories (8, object): [Application approved but not accepted < Application denied by financial institution < Application withdrawn by applicant < File closed for incompleteness < Loan originated < Loan purchased by the institution < Preapproval request approved but not accepted < Preapproval request denied by financial instit...]"
       ]
      }
     ],
     "prompt_number": 11
    },
    {
     "cell_type": "code",
     "collapsed": false,
     "input": [
      "df['taken'].cat.rename_categories(['approved_not_accept','denied','withdrawn','incomplete',\n",
      "                                   'originated','purchased','preapproval_accepted','preapproval_denied'],\n",
      "                                   inplace=True)"
     ],
     "language": "python",
     "metadata": {},
     "outputs": [],
     "prompt_number": 12
    },
    {
     "cell_type": "code",
     "collapsed": false,
     "input": [
      "df['taken']"
     ],
     "language": "python",
     "metadata": {},
     "outputs": [
      {
       "metadata": {},
       "output_type": "pyout",
       "prompt_number": 13,
       "text": [
        "0    originated\n",
        "1    originated\n",
        "2     purchased\n",
        "3     purchased\n",
        "...\n",
        "4999996    originated\n",
        "4999997     withdrawn\n",
        "4999998    originated\n",
        "4999999     purchased\n",
        "Name: taken, Length: 5000000, dtype: category\n",
        "Categories (8, object): [approved_not_accept < denied < withdrawn < incomplete < originated < purchased < preapproval_accepted < preapproval_denied]"
       ]
      }
     ],
     "prompt_number": 13
    },
    {
     "cell_type": "code",
     "collapsed": false,
     "input": [
      "df['taken'].value_counts()"
     ],
     "language": "python",
     "metadata": {},
     "outputs": [
      {
       "metadata": {},
       "output_type": "pyout",
       "prompt_number": 14,
       "text": [
        "originated              2667034\n",
        "purchased                816852\n",
        "denied                   715895\n",
        "withdrawn                406589\n",
        "approved_not_accept      190147\n",
        "incomplete               135545\n",
        "preapproval_denied        46597\n",
        "preapproval_accepted      21341\n",
        "dtype: int64"
       ]
      }
     ],
     "prompt_number": 14
    },
    {
     "cell_type": "code",
     "collapsed": false,
     "input": [
      "pvc = (100*df.groupby(['agency'])['taken'].value_counts()/len(df)).sortlevel()\n",
      "pvc.index.set_names(['agency','taken'],inplace=True)\n",
      "pvc.name = 'value'\n",
      "pvc"
     ],
     "language": "python",
     "metadata": {},
     "outputs": [
      {
       "metadata": {},
       "output_type": "pyout",
       "prompt_number": 15,
       "text": [
        "agency  taken              \n",
        "CFPB    approved_not_accept     1.66726\n",
        "        denied                  7.75374\n",
        "        incomplete              1.27654\n",
        "        originated             22.39016\n",
        "...\n",
        "OCC     preapproval_accepted    0.04418\n",
        "        preapproval_denied      0.17450\n",
        "        purchased               0.31856\n",
        "        withdrawn               0.40158\n",
        "Name: value, Length: 48, dtype: float64"
       ]
      }
     ],
     "prompt_number": 15
    },
    {
     "cell_type": "code",
     "collapsed": false,
     "input": [
      "df.loc[df.taken<'originated','taken'].value_counts()"
     ],
     "language": "python",
     "metadata": {},
     "outputs": [
      {
       "metadata": {},
       "output_type": "pyout",
       "prompt_number": 16,
       "text": [
        "denied                  715895\n",
        "approved_not_accept     190147\n",
        "incomplete              135545\n",
        "preapproval_denied           0\n",
        "preapproval_accepted         0\n",
        "purchased                    0\n",
        "originated                   0\n",
        "withdrawn                    0\n",
        "dtype: int64"
       ]
      }
     ],
     "prompt_number": 16
    },
    {
     "cell_type": "code",
     "collapsed": false,
     "input": [
      "df.loc[df.taken<'originated','taken'].cat.remove_unused_categories().value_counts()"
     ],
     "language": "python",
     "metadata": {},
     "outputs": [
      {
       "metadata": {},
       "output_type": "pyout",
       "prompt_number": 17,
       "text": [
        "denied                 715895\n",
        "approved_not_accept    190147\n",
        "incomplete             135545\n",
        "dtype: int64"
       ]
      }
     ],
     "prompt_number": 17
    },
    {
     "cell_type": "code",
     "collapsed": false,
     "input": [
      "idx = pd.IndexSlice\n",
      "pvc.loc[idx[['OCC','CFPB'],pvc.index.get_level_values('taken')<'originated']]"
     ],
     "language": "python",
     "metadata": {},
     "outputs": [
      {
       "metadata": {},
       "output_type": "pyout",
       "prompt_number": 18,
       "text": [
        "agency  taken              \n",
        "CFPB    approved_not_accept    1.66726\n",
        "        denied                 7.75374\n",
        "        incomplete             1.27654\n",
        "OCC     approved_not_accept    0.18920\n",
        "        denied                 0.72282\n",
        "        incomplete             0.07384\n",
        "Name: value, dtype: float64"
       ]
      }
     ],
     "prompt_number": 18
    },
    {
     "cell_type": "code",
     "collapsed": false,
     "input": [
      "pvc.reset_index()"
     ],
     "language": "python",
     "metadata": {},
     "outputs": [
      {
       "html": [
        "<div style=\"max-height:1000px;max-width:1500px;overflow:auto;\">\n",
        "<table border=\"1\" class=\"dataframe\">\n",
        "  <thead>\n",
        "    <tr style=\"text-align: right;\">\n",
        "      <th></th>\n",
        "      <th>agency</th>\n",
        "      <th>taken</th>\n",
        "      <th>0</th>\n",
        "    </tr>\n",
        "  </thead>\n",
        "  <tbody>\n",
        "    <tr>\n",
        "      <th>0 </th>\n",
        "      <td> CFPB</td>\n",
        "      <td>  approved_not_accept</td>\n",
        "      <td>  1.66726</td>\n",
        "    </tr>\n",
        "    <tr>\n",
        "      <th>1 </th>\n",
        "      <td> CFPB</td>\n",
        "      <td>               denied</td>\n",
        "      <td>  7.75374</td>\n",
        "    </tr>\n",
        "    <tr>\n",
        "      <th>2 </th>\n",
        "      <td> CFPB</td>\n",
        "      <td>           incomplete</td>\n",
        "      <td>  1.27654</td>\n",
        "    </tr>\n",
        "    <tr>\n",
        "      <th>3 </th>\n",
        "      <td> CFPB</td>\n",
        "      <td>           originated</td>\n",
        "      <td> 22.39016</td>\n",
        "    </tr>\n",
        "    <tr>\n",
        "      <th>4 </th>\n",
        "      <td> CFPB</td>\n",
        "      <td> preapproval_accepted</td>\n",
        "      <td>  0.19308</td>\n",
        "    </tr>\n",
        "    <tr>\n",
        "      <th>5 </th>\n",
        "      <td> CFPB</td>\n",
        "      <td>   preapproval_denied</td>\n",
        "      <td>  0.54028</td>\n",
        "    </tr>\n",
        "    <tr>\n",
        "      <th>...</th>\n",
        "      <td>...</td>\n",
        "      <td>...</td>\n",
        "      <td>...</td>\n",
        "    </tr>\n",
        "    <tr>\n",
        "      <th>42</th>\n",
        "      <td>  OCC</td>\n",
        "      <td>           incomplete</td>\n",
        "      <td>  0.07384</td>\n",
        "    </tr>\n",
        "    <tr>\n",
        "      <th>43</th>\n",
        "      <td>  OCC</td>\n",
        "      <td>           originated</td>\n",
        "      <td>  3.59134</td>\n",
        "    </tr>\n",
        "    <tr>\n",
        "      <th>44</th>\n",
        "      <td>  OCC</td>\n",
        "      <td> preapproval_accepted</td>\n",
        "      <td>  0.04418</td>\n",
        "    </tr>\n",
        "    <tr>\n",
        "      <th>45</th>\n",
        "      <td>  OCC</td>\n",
        "      <td>   preapproval_denied</td>\n",
        "      <td>  0.17450</td>\n",
        "    </tr>\n",
        "    <tr>\n",
        "      <th>46</th>\n",
        "      <td>  OCC</td>\n",
        "      <td>            purchased</td>\n",
        "      <td>  0.31856</td>\n",
        "    </tr>\n",
        "    <tr>\n",
        "      <th>47</th>\n",
        "      <td>  OCC</td>\n",
        "      <td>            withdrawn</td>\n",
        "      <td>  0.40158</td>\n",
        "    </tr>\n",
        "  </tbody>\n",
        "</table>\n",
        "<p>48 rows \u00d7 3 columns</p>\n",
        "</div>"
       ],
       "metadata": {},
       "output_type": "pyout",
       "prompt_number": 76,
       "text": [
        "   agency                 taken         0\n",
        "0    CFPB   approved_not_accept   1.66726\n",
        "1    CFPB                denied   7.75374\n",
        "2    CFPB            incomplete   1.27654\n",
        "3    CFPB            originated  22.39016\n",
        "4    CFPB  preapproval_accepted   0.19308\n",
        "5    CFPB    preapproval_denied   0.54028\n",
        "..    ...                   ...       ...\n",
        "42    OCC            incomplete   0.07384\n",
        "43    OCC            originated   3.59134\n",
        "44    OCC  preapproval_accepted   0.04418\n",
        "45    OCC    preapproval_denied   0.17450\n",
        "46    OCC             purchased   0.31856\n",
        "47    OCC             withdrawn   0.40158\n",
        "\n",
        "[48 rows x 3 columns]"
       ]
      }
     ],
     "prompt_number": 76
    },
    {
     "cell_type": "code",
     "collapsed": false,
     "input": [],
     "language": "python",
     "metadata": {},
     "outputs": []
    }
   ],
   "metadata": {}
  }
 ]
}